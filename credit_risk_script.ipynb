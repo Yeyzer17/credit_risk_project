{
 "cells": [
  {
   "cell_type": "code",
   "execution_count": 1,
   "metadata": {},
   "outputs": [],
   "source": [
    "import pandas as pd\n",
    "import numpy as np\n",
    "import seaborn as sns\n",
    "import matplotlib.pyplot as plt\n",
    "from sklearn.neighbors import KNeighborsClassifier\n",
    "from sklearn.model_selection import train_test_split\n",
    "from sklearn.metrics import confusion_matrix\n",
    "from sklearn.metrics import classification_report\n",
    "from sklearn.metrics import roc_curve\n",
    "from sklearn.preprocessing import OneHotEncoder"
   ]
  },
  {
   "cell_type": "code",
   "execution_count": 2,
   "metadata": {},
   "outputs": [],
   "source": [
    "modulo_1 = pd.read_stata('../TF/01_MÓDULO.dta')\n",
    "modulo_2 = pd.read_stata('../TF/02_MÓDULO.dta')\n",
    "modulo_3 = pd.read_stata('../TF/03_MÓDULO.dta')\n",
    "modulo_4 = pd.read_stata('../TF/04_MÓDULO.dta')\n",
    "modulo_5 = pd.read_stata('../TF/05_MÓDULO.dta')\n",
    "modulo_6 = pd.read_stata('../TF/06_MÓDULO.dta')\n",
    "modulo_7 = pd.read_stata('../TF/07_MÓDULO.dta')\n",
    "modulo_8 = pd.read_stata('../TF/08_MÓDULO.dta')\n",
    "modulo_9 = pd.read_stata('../TF/09_MÓDULO.dta')"
   ]
  },
  {
   "cell_type": "code",
   "execution_count": 3,
   "metadata": {},
   "outputs": [],
   "source": [
    "modulo_1 = modulo_1[['IRUC','DEPARTAMENTO','PROVINCIA','DISTRITO','C4','C20','C1RESULTFINAL','C10','C11','C12','C13A','C14','C16','C17']]\n",
    "modulo_2 = modulo_2[['IRUC','DEPARTAMENTO','PROVINCIA','DISTRITO','C4','C20','C1RESULTFINAL','M1P3','M1P4','M1P5','M1P8','M1P10','M1P13','M3P1_1','M3P1_1D','M3P1_2','M3P1_2D','M3P1_3','M3P1_3D','M3P10_1','M3P10_2','M3P10_3','M3P10_4','M3P10_5','M3P13','M3P17']]\n",
    "modulo_3 = modulo_3[['IRUC','DEPARTAMENTO','PROVINCIA','DISTRITO','C4','C20','C1RESULTFINAL','M4P1','M4P3','M4P7_1','M4P7_2','M4P7_4','M4P8','M4P13_1','M4P13_2','M4P13_4','M4P23','M4P24_1','M4P24_2','M4P31','M4P34','M4P35','M4P36_1','M4P36_2','M4P36_3','M4P37','M4P38_1A','M4P41','M4P46','M4P47','M4P49','M4P53','M4P64','M4P65','M4P66','M4P68','M4P84']]\n",
    "modulo_4 = modulo_4[['IRUC','DEPARTAMENTO','PROVINCIA','DISTRITO','C4','C20','C1RESULTFINAL','M5P1_1A','M5P1_1B','M5P1_2A','M5P1_2B','M5P1_4A','M5P1_4B','M5P1_5A','M5P1_5B','M5P3_1','M5P3_2','M5P3_3','M5P3_4','M5P3_5','M5P3_6','M5P5_1','M5P5_2','M6P1_1','M6P1_2','M6P1_3','M6P4_1','M6P4_2','M6P5_1','M6P5_2','M6P5_3','M6P5_4','M6P8']]\n",
    "modulo_5 = modulo_5[['IRUC','DEPARTAMENTO','PROVINCIA','DISTRITO','C4','C20','C1RESULTFINAL','M7P1_1B','M7P1_1C','M7P1_2B','M7P1_2C','M7P1_3B','M7P1_3C','M7P5_1','M7P5_2','M7P5_3','M7P8_1','M7P8_2','M7P8_3','M7P8_4','M7P8_5','M7P8_6','M7P8_7','M7P8_8','M7P9','M7P10','M8P27','M8P28','M8P29','M8P30','M8P53_1','M8P53_2','M8P53_3','M8P53_5','M8P53_6','M8P53_11','M8P53_12','M8P53_14','M8P53_17','M8P53_20','M9P4_1','M9P4_2','M9P4_3','M9P4_4','M9P4_5','M9P4_6','M9P4_7']]"
   ]
  },
  {
   "cell_type": "code",
   "execution_count": 4,
   "metadata": {},
   "outputs": [],
   "source": [
    "credito_df = modulo_1.merge(modulo_2, how='left',on=['IRUC','DEPARTAMENTO','PROVINCIA','DISTRITO','C4','C20','C1RESULTFINAL'])\n",
    "credito_df = credito_df.merge(modulo_3,how='left',on=['IRUC','DEPARTAMENTO','PROVINCIA','DISTRITO','C4','C20','C1RESULTFINAL'])\n",
    "credito_df = credito_df.merge(modulo_4,how='left',on=['IRUC','DEPARTAMENTO','PROVINCIA','DISTRITO','C4','C20','C1RESULTFINAL'])\n",
    "credito_df = credito_df.merge(modulo_5,how='left',on=['IRUC','DEPARTAMENTO','PROVINCIA','DISTRITO','C4','C20','C1RESULTFINAL'])"
   ]
  },
  {
   "cell_type": "code",
   "execution_count": 5,
   "metadata": {},
   "outputs": [
    {
     "name": "stdout",
     "output_type": "stream",
     "text": [
      "Completo: 14226\n",
      "No Ubicada: 1767\n",
      "Otro: 1422\n",
      "Ausente: 1364\n",
      "Rechazo: 258\n",
      "Incompleta: 138\n",
      "Act No investigada: 29\n"
     ]
    }
   ],
   "source": [
    "# Quiero ver las cantidades exactas de los que terminaron la encuesta para quedarme con solo esos datos y evitar sesgos\n",
    "conteo_valores = credito_df['C1RESULTFINAL'].value_counts()\n",
    "\n",
    "# Muestra las cantidades exactas\n",
    "for valor, cantidad in conteo_valores.items():\n",
    "    print(f'{valor}: {cantidad}')\n"
   ]
  },
  {
   "cell_type": "code",
   "execution_count": 6,
   "metadata": {},
   "outputs": [],
   "source": [
    "# Sobrescribir el DataFrame original con solo las filas donde 'C1RESULTFINAL' es 'Completo'\n",
    "credito_df = credito_df.loc[credito_df['C1RESULTFINAL'] == 'Completo']"
   ]
  },
  {
   "cell_type": "code",
   "execution_count": 7,
   "metadata": {},
   "outputs": [],
   "source": [
    "credito_df.rename(columns={'C4': 'anio_fun'}, inplace=True)\n",
    "credito_df.rename(columns={'C20': 'rango_ventas'}, inplace=True)\n",
    "credito_df.rename(columns={'C10': 'sexo'}, inplace=True)\n",
    "credito_df.rename(columns={'C11': 'edad'}, inplace=True)\n",
    "credito_df.rename(columns={'C12': 'estudios'}, inplace=True)\n",
    "credito_df.rename(columns={'C13A': 'cargo'}, inplace=True)\n",
    "credito_df.rename(columns={'C14': 'act_eco'}, inplace=True)\n",
    "credito_df.rename(columns={'C16': 'organizacion'}, inplace=True)\n",
    "credito_df.rename(columns={'C17': 'uso_de_local'}, inplace=True)\n",
    "\n",
    "credito_df.rename(columns={'M1P3': 'credito_inicial'}, inplace=True)\n",
    "credito_df.rename(columns={'M1P4': 'tipo_acredor'}, inplace=True)\n",
    "credito_df.rename(columns={'M1P5': 'areas_funcionales'}, inplace=True)\n",
    "credito_df.rename(columns={'M1P8': 'mercado'}, inplace=True)\n",
    "credito_df.rename(columns={'M1P10': 'competencia'}, inplace=True)\n",
    "credito_df.rename(columns={'M1P13': 'org_empresarial'}, inplace=True)\n",
    "credito_df.rename(columns={'M3P1_1': 'hay_ejecutivos'}, inplace=True)\n",
    "credito_df.rename(columns={'M3P1_1D': 'sal_ejec'}, inplace=True)\n",
    "credito_df.rename(columns={'M3P1_2': 'emple_per'}, inplace=True)\n",
    "credito_df.rename(columns={'M3P1_2D': 'sal_emple'}, inplace=True)\n",
    "credito_df.rename(columns={'M3P1_3': 'obreros_perma'}, inplace=True)\n",
    "credito_df.rename(columns={'M3P1_3D': 'sal_obr_per'}, inplace=True)\n",
    "credito_df.rename(columns={'M3P10_1': 'innov_tec'}, inplace=True)\n",
    "credito_df.rename(columns={'M3P10_2': 'estacionalidad'}, inplace=True)\n",
    "credito_df.rename(columns={'M3P10_3': 'renuncia_personal'}, inplace=True)\n",
    "credito_df.rename(columns={'M3P10_4': 'apertura_negocio'}, inplace=True)\n",
    "credito_df.rename(columns={'M3P10_5': 'expansion_empresa'}, inplace=True)\n",
    "credito_df.rename(columns={'M3P13': 'dificul_contr_empl'}, inplace=True)\n",
    "credito_df.rename(columns={'M3P17': 'capacidad_tec_requeri'}, inplace=True)\n",
    "\n",
    "credito_df.rename(columns={'M4P1': 'modalidad_compra'}, inplace=True)\n",
    "credito_df.rename(columns={'M4P3': 'tipo_regist_decompr'}, inplace=True)\n",
    "credito_df.rename(columns={'M4P7_1': 'pago_adelantado_nac'}, inplace=True)\n",
    "credito_df.rename(columns={'M4P7_2': 'pago_contraentreg_nac'}, inplace=True)\n",
    "credito_df.rename(columns={'M4P7_4': 'pago_plazo_instrumfin_nac'}, inplace=True)\n",
    "credito_df.rename(columns={'M4P8': 'compr_intern'}, inplace=True)\n",
    "credito_df.rename(columns={'M4P13_1': 'pago_adelt_int'}, inplace=True)\n",
    "credito_df.rename(columns={'M4P13_2': 'pago_contraentre_int'}, inplace=True)\n",
    "credito_df.rename(columns={'M4P13_4': 'pago_plazo_instrumfin_int'}, inplace=True)\n",
    "credito_df.rename(columns={'M4P23': 'almaceno_prod_insu_merc'}, inplace=True)\n",
    "credito_df.rename(columns={'M4P24_1': 'almaceno_casa_vivienda'}, inplace=True)\n",
    "credito_df.rename(columns={'M4P24_2': 'almaceno_empresa'}, inplace=True)\n",
    "credito_df.rename(columns={'M4P31': 'tecnolg_utilizada_prod'}, inplace=True)\n",
    "credito_df.rename(columns={'M4P34': 'factores_de_producc'}, inplace=True)\n",
    "credito_df.rename(columns={'M4P35': 'contrato_otras_empr'}, inplace=True)\n",
    "credito_df.rename(columns={'M4P36_1': 'reposicion_de_equip_anti'}, inplace=True)\n",
    "credito_df.rename(columns={'M4P36_2': 'mejoras_equipo'}, inplace=True)\n",
    "credito_df.rename(columns={'M4P36_3': 'expansion_capacidad_prod'}, inplace=True)\n",
    "credito_df.rename(columns={'M4P37': 'frecuencia_mantenimiento'}, inplace=True)\n",
    "credito_df.rename(columns={'M4P38_1A': 'recicla'}, inplace=True)\n",
    "credito_df.rename(columns={'M4P41': 'sistem_refrigeracion'}, inplace=True)\n",
    "credito_df.rename(columns={'M4P46': 'principal_modalid_venta'}, inplace=True)\n",
    "credito_df.rename(columns={'M4P47': 'estud_mercad'}, inplace=True)\n",
    "credito_df.rename(columns={'M4P49': 'promocion_comerc'}, inplace=True)\n",
    "credito_df.rename(columns={'M4P53': 'realiza_vents_inter'}, inplace=True)\n",
    "credito_df.rename(columns={'M4P64': 'como_lleva_contavilidad'}, inplace=True)\n",
    "credito_df.rename(columns={'M4P65': 'conoce_tributos'}, inplace=True)\n",
    "credito_df.rename(columns={'M4P66': 'benef_trib'}, inplace=True)\n",
    "credito_df.rename(columns={'M4P68': 'difict_pago_inpuest'}, inplace=True)\n",
    "credito_df.rename(columns={'M4P84': 'cetificado'}, inplace=True)\n",
    "\n",
    "credito_df.rename(columns={'M5P1_1A': 'pc'}, inplace=True)\n",
    "credito_df.rename(columns={'M5P1_1B': 'pc_cantidad'}, inplace=True)\n",
    "credito_df.rename(columns={'M5P1_2A': 'laptop_table'}, inplace=True)\n",
    "credito_df.rename(columns={'M5P1_2B': 'laptop_tablec_cantidad'}, inplace=True)\n",
    "credito_df.rename(columns={'M5P1_4A': 'impresora'}, inplace=True)\n",
    "credito_df.rename(columns={'M5P1_4B': 'impresora_cantidad'}, inplace=True)\n",
    "credito_df.rename(columns={'M5P1_5A': 'escaner'}, inplace=True)\n",
    "credito_df.rename(columns={'M5P1_5B': 'escaner_cantidad'}, inplace=True)\n",
    "credito_df.rename(columns={'M5P3_1': 'sofware_contrable'}, inplace=True)\n",
    "credito_df.rename(columns={'M5P3_2': 'sofware_ventas'}, inplace=True)\n",
    "credito_df.rename(columns={'M5P3_3': 'sofware_personal'}, inplace=True)\n",
    "credito_df.rename(columns={'M5P3_4': 'sofware_finanzas'}, inplace=True)\n",
    "credito_df.rename(columns={'M5P3_5': 'sofware_logistica'}, inplace=True)\n",
    "credito_df.rename(columns={'M5P3_6': 'sofware_produccion'}, inplace=True)\n",
    "credito_df.rename(columns={'M5P5_1': 'internet'}, inplace=True)\n",
    "credito_df.rename(columns={'M5P5_2': 'intranet'}, inplace=True)\n",
    "credito_df.rename(columns={'M6P1_1': 'robo'}, inplace=True)\n",
    "credito_df.rename(columns={'M6P1_2': 'intento_robo'}, inplace=True)\n",
    "credito_df.rename(columns={'M6P1_3': 'extorcion'}, inplace=True)\n",
    "credito_df.rename(columns={'M6P4_1': 'perdida_humana'}, inplace=True)\n",
    "credito_df.rename(columns={'M6P4_2': 'perdida_activos'}, inplace=True)\n",
    "credito_df.rename(columns={'M6P5_1': 'seguridad_infraest'}, inplace=True)\n",
    "credito_df.rename(columns={'M6P5_2': 'seguridad_video'}, inplace=True)\n",
    "credito_df.rename(columns={'M6P5_3': 'seguridad_sist_control_pers'}, inplace=True)\n",
    "credito_df.rename(columns={'M6P5_4': 'seguridad_alarma'}, inplace=True)\n",
    "credito_df.rename(columns={'M6P8': 'transporte_vehiculos_propios'}, inplace=True)\n",
    "\n",
    "credito_df.rename(columns={'M7P1_1B': 'credito_capital_solicito'}, inplace=True)\n",
    "credito_df.rename(columns={'M7P1_1C': 'credito_capital_utilizo'}, inplace=True)\n",
    "credito_df.rename(columns={'M7P1_2B': 'credito_actifijo_solicito'}, inplace=True)\n",
    "credito_df.rename(columns={'M7P1_2C': 'credito_actifijo_utilizo'}, inplace=True)\n",
    "credito_df.rename(columns={'M7P1_3B': 'credito_consumo_solicito'}, inplace=True)\n",
    "credito_df.rename(columns={'M7P1_3C': 'credito_consumo_utilizo'}, inplace=True)\n",
    "credito_df.rename(columns={'M7P2': 'utilizo_produc_fin'}, inplace=True)\n",
    "credito_df.rename(columns={'M7P3': 'razon_porque_no_solicito_credit'}, inplace=True)\n",
    "\n",
    "\n",
    "credito_df.rename(columns={'M7P5_1': 'credito_monto_soles'}, inplace=True)\n",
    "credito_df.rename(columns={'M7P5_2': 'credito_cuota_mensual'}, inplace=True)\n",
    "credito_df.rename(columns={'M7P5_3': 'credito_plazo'}, inplace=True)\n",
    "credito_df.rename(columns={'M7P8_1': 'seguro_auto'}, inplace=True)\n",
    "credito_df.rename(columns={'M7P8_2': 'seguro_incendio'}, inplace=True)\n",
    "credito_df.rename(columns={'M7P8_3': 'seguro_robo'}, inplace=True)\n",
    "credito_df.rename(columns={'M7P8_4': 'seguro_transporte_mercans'}, inplace=True)\n",
    "credito_df.rename(columns={'M7P8_5': 'seguro_fraude'}, inplace=True)\n",
    "credito_df.rename(columns={'M7P8_6': 'seguro_medico'}, inplace=True)\n",
    "credito_df.rename(columns={'M7P8_7': 'seguro_vida'}, inplace=True)\n",
    "credito_df.rename(columns={'M7P8_8': 'seguro_accidente'}, inplace=True)\n",
    "credito_df.rename(columns={'M7P9': 'credito_prestamista_accedio'}, inplace=True)\n",
    "credito_df.rename(columns={'M7P10': 'liquidez_problema'}, inplace=True)\n",
    "credito_df.rename(columns={'M8P27': 'regimen_tributario'}, inplace=True)\n",
    "credito_df.rename(columns={'M8P28': 'tributario__facil_dificil'}, inplace=True)\n",
    "credito_df.rename(columns={'M8P29': 'tributosmun_facil_dificil'}, inplace=True)\n",
    "credito_df.rename(columns={'M8P30': 'atendio_auditorias'}, inplace=True)\n",
    "credito_df.rename(columns={'M8P53_1': 'dificultad_financiamiento'}, inplace=True)\n",
    "credito_df.rename(columns={'M8P53_2': 'operaciones_no_automatizado'}, inplace=True)\n",
    "credito_df.rename(columns={'M8P53_3': 'manodeobra_no_calif'}, inplace=True)\n",
    "credito_df.rename(columns={'M8P53_5': 'poca_demanda'}, inplace=True)\n",
    "credito_df.rename(columns={'M8P53_6': 'falta_insumo_nac'}, inplace=True)\n",
    "credito_df.rename(columns={'M8P53_11': 'excesiva_regu_labo'}, inplace=True)\n",
    "credito_df.rename(columns={'M8P53_12': 'excesiva_regu_tribu'}, inplace=True)\n",
    "credito_df.rename(columns={'M8P53_14': 'excesiva_regu_licencia'}, inplace=True)\n",
    "credito_df.rename(columns={'M8P53_17': 'corrupcion'}, inplace=True)\n",
    "credito_df.rename(columns={'M8P53_20': 'informalidad'}, inplace=True)\n",
    "credito_df.rename(columns={'M9P4_1': 'venta_mercaderia'}, inplace=True)\n",
    "credito_df.rename(columns={'M9P4_2': 'costo_venta_merca'}, inplace=True)\n",
    "credito_df.rename(columns={'M9P4_3': 'margen_comercial'}, inplace=True)\n",
    "credito_df.rename(columns={'M9P4_4': 'ventas_pruductos'}, inplace=True)\n",
    "credito_df.rename(columns={'M9P4_5': 'prestacion_servicios'}, inplace=True)\n",
    "credito_df.rename(columns={'M9P4_6': 'otros_ingresos'}, inplace=True)\n",
    "credito_df.rename(columns={'M9P4_7': 'total_ingreso'}, inplace=True)\n"
   ]
  },
  {
   "cell_type": "code",
   "execution_count": 8,
   "metadata": {},
   "outputs": [],
   "source": [
    "credito_df['solicito_credito'] = credito_df[['credito_capital_solicito', 'credito_actifijo_solicito', 'credito_consumo_solicito']].apply(lambda row: 'Si' if 'Si' in row.values else 'No', axis=1)\n",
    "datos_2 = credito_df[credito_df['solicito_credito'] == 'Si']\n",
    "datos_3 = datos_2[datos_2['C1RESULTFINAL'] == 'Completo']"
   ]
  },
  {
   "cell_type": "code",
   "execution_count": 9,
   "metadata": {},
   "outputs": [],
   "source": [
    "# Crear una función de mapeo para asignar 1 a \"si\" y 0 a \"no\"\n",
    "def map_solicito_credito(valor):\n",
    "    return 1 if valor == \"Si\" else 0\n",
    "\n",
    "# Aplicar la función de mapeo para crear la nueva columna \"outcome\"\n",
    "credito_df['outcome'] = credito_df['solicito_credito'].map(map_solicito_credito)"
   ]
  },
  {
   "cell_type": "code",
   "execution_count": 10,
   "metadata": {},
   "outputs": [],
   "source": [
    "# Eliminar las columnas que de 'IRUC', 'DEPARTAMENTO', 'PROVINCIA', y 'DISTRITO' que solo nos interesaron para el merge\n",
    "columnas_a_eliminar = ['IRUC', 'DEPARTAMENTO', 'PROVINCIA', 'DISTRITO']\n",
    "\n",
    "# Eliminar las columnas\n",
    "credito_df = credito_df.drop(columnas_a_eliminar, axis=1)\n"
   ]
  },
  {
   "cell_type": "code",
   "execution_count": 11,
   "metadata": {},
   "outputs": [],
   "source": [
    "# Convertir la variable \"sexo\" a dummy\n",
    "credito_df['sexo_dummy'] = credito_df['sexo'].map({'Masculino': 1, 'Femenino': 0})\n",
    "\n",
    "# Eliminar filas con valores NaN en la nueva variable dummy\n",
    "credito_df = credito_df.dropna(subset=['sexo_dummy'])\n"
   ]
  },
  {
   "cell_type": "code",
   "execution_count": 12,
   "metadata": {},
   "outputs": [],
   "source": [
    "# Eliminar la columna \"sexo\"\n",
    "credito_df = credito_df.drop('sexo', axis=1)"
   ]
  },
  {
   "cell_type": "code",
   "execution_count": 13,
   "metadata": {},
   "outputs": [],
   "source": [
    "# Convertir la variable \"rango_ventas\" a dummy\n",
    "credito_df['rango_ventas_dummy'] = credito_df['rango_ventas'].map({'Hasta 570000 nuevos soles?': 1, 'Entre 570000 y 6460000 nuevos soles?': 2, 'Mayor a 6460000 nuevos soles?': 3})\n"
   ]
  },
  {
   "cell_type": "code",
   "execution_count": 14,
   "metadata": {},
   "outputs": [],
   "source": [
    "# Eliminar la columna \"rango_ventas\" que era categórica\n",
    "credito_df = credito_df.drop('rango_ventas', axis=1)"
   ]
  },
  {
   "cell_type": "code",
   "execution_count": 15,
   "metadata": {},
   "outputs": [],
   "source": [
    "# Convertir la variable \"C1RESULTFINAL\" a dummy\n",
    "#credito_df['C1RESULTFINAL_dummy'] = credito_df['C1RESULTFINAL'].map({'Completo': 1})"
   ]
  },
  {
   "cell_type": "code",
   "execution_count": 16,
   "metadata": {},
   "outputs": [],
   "source": [
    "# Eliminar la columna \"C1RESULTFINAL\" que ya nos delimito la muestra\n",
    "credito_df = credito_df.drop('C1RESULTFINAL', axis=1)"
   ]
  },
  {
   "cell_type": "code",
   "execution_count": 17,
   "metadata": {},
   "outputs": [],
   "source": [
    "mapeo_estudio = {\n",
    "    'Sin nivel': 1,\n",
    "    'Inicial': 2,\n",
    "    'Primaria incompleta': 3,\n",
    "    'Primaria Completa': 4,\n",
    "    'Secundaria incompleta': 5,\n",
    "    'Secundaria completa': 6,\n",
    "    'Superior no universitaria incompleta': 7,\n",
    "    'Superior no universitaria completa': 8,\n",
    "    'Superior universitaria incompleta': 9,\n",
    "    'Superior universitaria completa': 10,\n",
    "    'Post grado': 11\n",
    "}\n",
    "\n",
    "\n",
    "# Aplicar el mapeo a la columna \"estudios\"\n",
    "credito_df['estudio_numerico'] = credito_df['estudios'].map(mapeo_estudio)\n"
   ]
  },
  {
   "cell_type": "code",
   "execution_count": 18,
   "metadata": {},
   "outputs": [],
   "source": [
    "# Eliminar la columna original \"estudio\" categórica\n",
    "credito_df = credito_df.drop('estudios', axis=1)"
   ]
  },
  {
   "cell_type": "code",
   "execution_count": 19,
   "metadata": {},
   "outputs": [],
   "source": [
    "# Eliminar la columna \"cargo\" que solo contiene nulas\n",
    "credito_df.drop('cargo', axis=1, inplace=True)"
   ]
  },
  {
   "cell_type": "code",
   "execution_count": 20,
   "metadata": {},
   "outputs": [],
   "source": [
    "# Eliminar la columna \"act_eco\" porque contiene demasiadas categorías, se podría mejorar cambiando cada actividad por el sueldo promedio, pero requeriría de una amplia investigación\n",
    "credito_df.drop('act_eco', axis=1, inplace=True)"
   ]
  },
  {
   "cell_type": "code",
   "execution_count": 21,
   "metadata": {},
   "outputs": [],
   "source": [
    "#Ordenamos de 0 a 5 donde, miemtras meor sea el número es menos confiable en materia legal\n",
    "mapeo_organizacion = {\n",
    "    'Persona natural': 5,\n",
    "    'Sociedad anónima abierta': 4,\n",
    "    'Sociedad anónima cerrada': 3,\n",
    "    'Sociedad comercial de responsabilidad limitada': 2,\n",
    "    'Empresa individual de responsabilidad limitada': 1,\n",
    "    'Otra': 0,\n",
    "}\n",
    "\n",
    "\n",
    "# Aplicar el mapeo a la columna \"organizacion\"\n",
    "credito_df['organizacion_numerico'] = credito_df['organizacion'].map(mapeo_organizacion)"
   ]
  },
  {
   "cell_type": "code",
   "execution_count": 22,
   "metadata": {},
   "outputs": [],
   "source": [
    "# Eliminar la columna original \"organizacion\" categórica\n",
    "credito_df = credito_df.drop('organizacion', axis=1)"
   ]
  },
  {
   "cell_type": "code",
   "execution_count": 23,
   "metadata": {},
   "outputs": [],
   "source": [
    "# si el accuracy no es bueno eliminar \"organizacion_numerico\" ya que no tiene significancia"
   ]
  },
  {
   "cell_type": "code",
   "execution_count": 24,
   "metadata": {},
   "outputs": [],
   "source": [
    "mapeo_uso_de_local = {\n",
    "    'No': 0,\n",
    "    'Si': 1,\n",
    "}\n",
    "\n",
    "# Aplicar el mapeo a la columna \"uso_de_local\"\n",
    "credito_df['uso_de_local_numerico'] = credito_df['uso_de_local'].map(mapeo_uso_de_local)"
   ]
  },
  {
   "cell_type": "code",
   "execution_count": 25,
   "metadata": {},
   "outputs": [],
   "source": [
    "#eliminar categórica\n",
    "credito_df = credito_df.drop('uso_de_local', axis=1)"
   ]
  },
  {
   "cell_type": "code",
   "execution_count": 26,
   "metadata": {},
   "outputs": [],
   "source": [
    "#eliminar tipo_acredor, el objetivo es estudiar el crédito, sea de la organización que formal que provenga. La variable tipo_acredor esta compuesta mayormente por nulas\n",
    "credito_df = credito_df.drop('tipo_acredor', axis=1)"
   ]
  },
  {
   "cell_type": "code",
   "execution_count": 27,
   "metadata": {},
   "outputs": [],
   "source": [
    "#mapeo_credito_inicial = {\n",
    "#    'No': 0,\n",
    "#    'Si': 1,\n",
    "#}\n",
    "\n",
    "# Aplicar el mapeo a la columna \"credito_inicial\"\n",
    "#credito_df['credito_inicial_numerico'] = credito_df['credito_inicial'].map(mapeo_credito_inicial)"
   ]
  },
  {
   "cell_type": "code",
   "execution_count": 28,
   "metadata": {},
   "outputs": [],
   "source": [
    "credito_df = credito_df.drop('credito_inicial', axis=1)"
   ]
  },
  {
   "cell_type": "code",
   "execution_count": 29,
   "metadata": {},
   "outputs": [],
   "source": [
    "mapeo_areas_funcionales = {\n",
    "    'No': 0,\n",
    "    'Si': 1,\n",
    "}\n",
    "\n",
    "# Aplicar el mapeo a la columna \"areas_funcionales\"\n",
    "credito_df['areas_funcionales_numerico'] = credito_df['areas_funcionales'].map(mapeo_areas_funcionales)"
   ]
  },
  {
   "cell_type": "code",
   "execution_count": 30,
   "metadata": {},
   "outputs": [],
   "source": [
    "credito_df = credito_df.drop('areas_funcionales', axis=1)"
   ]
  },
  {
   "cell_type": "code",
   "execution_count": 31,
   "metadata": {},
   "outputs": [],
   "source": [
    "mapeo_mercado = {\n",
    "    '¿Local?': 0,\n",
    "    '¿Nacional?': 1,\n",
    "    '¿Internacional?': 3\n",
    "}\n",
    "\n",
    "# Aplicar el mapeo a la columna \"mercado\"\n",
    "credito_df['mercado_numerico'] = credito_df['mercado'].map(mapeo_mercado)"
   ]
  },
  {
   "cell_type": "code",
   "execution_count": 32,
   "metadata": {},
   "outputs": [],
   "source": [
    "credito_df = credito_df.drop('mercado', axis=1)"
   ]
  },
  {
   "cell_type": "code",
   "execution_count": 33,
   "metadata": {},
   "outputs": [],
   "source": [
    "mapeo_competencia = {\n",
    "    'No sabe': 0,\n",
    "    '¿Mucha competencia?': 1,\n",
    "    '¿Poca competencia?': 2,\n",
    "    '¿No hay competencia?': 3\n",
    "}\n",
    " \n",
    "# Aplicar el mapeo a la columna \"competencia\"\n",
    "credito_df['competencia_numerico'] = credito_df['competencia'].map(mapeo_competencia)"
   ]
  },
  {
   "cell_type": "code",
   "execution_count": 34,
   "metadata": {},
   "outputs": [],
   "source": [
    "credito_df = credito_df.drop('competencia', axis=1)"
   ]
  },
  {
   "cell_type": "code",
   "execution_count": 35,
   "metadata": {},
   "outputs": [],
   "source": [
    "mapeo_org_empresarial = {\n",
    "    'No': 0,\n",
    "    'Si': 1,\n",
    "}\n",
    "\n",
    "# Aplicar el mapeo a la columna \"org_empresarial\"\n",
    "credito_df['org_empresarial_numerico'] = credito_df['org_empresarial'].map(mapeo_org_empresarial)"
   ]
  },
  {
   "cell_type": "code",
   "execution_count": 36,
   "metadata": {},
   "outputs": [],
   "source": [
    "credito_df = credito_df.drop('org_empresarial', axis=1)"
   ]
  },
  {
   "cell_type": "code",
   "execution_count": 37,
   "metadata": {},
   "outputs": [
    {
     "name": "stdout",
     "output_type": "stream",
     "text": [
      "1.0: 14226\n"
     ]
    }
   ],
   "source": [
    "# Calcula las cantidades exactas de hay_ejecutivos\n",
    "conteo_valores1 = credito_df['hay_ejecutivos'].value_counts()\n",
    "\n",
    "# Muestra las cantidades exactas\n",
    "for valor, cantidad in conteo_valores1.items():\n",
    "    print(f'{valor}: {cantidad}')\n"
   ]
  },
  {
   "cell_type": "code",
   "execution_count": 38,
   "metadata": {},
   "outputs": [],
   "source": [
    "#como todos los valores de \"hay_ejecutivos\" son unos, podemos eliminar esta columna\n",
    "credito_df = credito_df.drop('hay_ejecutivos', axis=1)"
   ]
  },
  {
   "cell_type": "code",
   "execution_count": 39,
   "metadata": {},
   "outputs": [
    {
     "name": "stdout",
     "output_type": "stream",
     "text": [
      "Media de sal_ejec: 9143.07573773794\n",
      "Varianza de sal_ejec: 275353752.1749643\n"
     ]
    }
   ],
   "source": [
    "# Calculamos la media y la varianza de la columna 'sal_ejec'\n",
    "media_salario = credito_df['sal_ejec'].mean()\n",
    "varianza_salario = credito_df['sal_ejec'].var()\n",
    "\n",
    "# Mostrar la media y la varianza\n",
    "print(f'Media de sal_ejec: {media_salario}')\n",
    "print(f'Varianza de sal_ejec: {varianza_salario}')\n"
   ]
  },
  {
   "cell_type": "code",
   "execution_count": 40,
   "metadata": {},
   "outputs": [],
   "source": [
    "#Como la varianza es demasiado amplia, cambiaremos los valores nulos de \"sal_ejec\" con la mediana\n",
    "mediana_salario = credito_df['sal_ejec'].median()\n",
    "credito_df['sal_ejec'].fillna(mediana_salario, inplace=True)\n"
   ]
  },
  {
   "cell_type": "code",
   "execution_count": 41,
   "metadata": {},
   "outputs": [
    {
     "name": "stdout",
     "output_type": "stream",
     "text": [
      "1.0: 14226\n"
     ]
    }
   ],
   "source": [
    "# Calcula las cantidades exactas de hay_ejecutivos\n",
    "conteo_valores2 = credito_df['emple_per'].value_counts()\n",
    "\n",
    "# Muestra las cantidades exactas\n",
    "for valor, cantidad in conteo_valores2.items():\n",
    "    print(f'{valor}: {cantidad}')\n"
   ]
  },
  {
   "cell_type": "code",
   "execution_count": 42,
   "metadata": {},
   "outputs": [],
   "source": [
    "#como todos los valores de \"emple_per\" son unos, podemos eliminar esta columna\n",
    "credito_df = credito_df.drop('emple_per', axis=1)"
   ]
  },
  {
   "cell_type": "code",
   "execution_count": 43,
   "metadata": {},
   "outputs": [
    {
     "name": "stdout",
     "output_type": "stream",
     "text": [
      "Media de sal_emple: 2871.4205016974724\n",
      "Varianza de sal_emple: 80651249.8081659\n"
     ]
    }
   ],
   "source": [
    "# Calculamos la media y la varianza de la columna 'sal_emple'\n",
    "media_salario = credito_df['sal_emple'].mean()\n",
    "varianza_salario = credito_df['sal_emple'].var()\n",
    "\n",
    "# Mostrar la media y la varianza\n",
    "print(f'Media de sal_emple: {media_salario}')\n",
    "print(f'Varianza de sal_emple: {varianza_salario}')\n"
   ]
  },
  {
   "cell_type": "code",
   "execution_count": 44,
   "metadata": {},
   "outputs": [],
   "source": [
    "#Como la varianza es demasiado amplia, cambiaremos los valores nulos de \"sal_emple\" con la mediana\n",
    "mediana_salario = credito_df['sal_emple'].median()\n",
    "credito_df['sal_emple'].fillna(mediana_salario, inplace=True)\n"
   ]
  },
  {
   "cell_type": "code",
   "execution_count": 45,
   "metadata": {},
   "outputs": [],
   "source": [
    "#como todos los valores de \"obreros_perma\" son unos, podemos eliminar esta columna\n",
    "credito_df = credito_df.drop('obreros_perma', axis=1)"
   ]
  },
  {
   "cell_type": "code",
   "execution_count": 46,
   "metadata": {},
   "outputs": [
    {
     "name": "stdout",
     "output_type": "stream",
     "text": [
      "Media de sal_obr_per: 1792.4574742268042\n",
      "Varianza de sal_obr_per: 38028010.43799516\n"
     ]
    }
   ],
   "source": [
    "# Calculamos la media y la varianza de la columna 'sal_obr_per'\n",
    "media_salario = credito_df['sal_obr_per'].mean()\n",
    "varianza_salario = credito_df['sal_obr_per'].var()\n",
    "\n",
    "# Mostrar la media y la varianza\n",
    "print(f'Media de sal_obr_per: {media_salario}')\n",
    "print(f'Varianza de sal_obr_per: {varianza_salario}')\n"
   ]
  },
  {
   "cell_type": "code",
   "execution_count": 47,
   "metadata": {},
   "outputs": [],
   "source": [
    "#Como la varianza es demasiado amplia, cambiaremos los valores nulos de \"sal_obr_per\" con la mediana\n",
    "mediana_salario = credito_df['sal_obr_per'].median()\n",
    "credito_df['sal_obr_per'].fillna(mediana_salario, inplace=True)\n"
   ]
  },
  {
   "cell_type": "code",
   "execution_count": 48,
   "metadata": {},
   "outputs": [],
   "source": [
    "credito_df = credito_df.drop('innov_tec', axis=1)"
   ]
  },
  {
   "cell_type": "code",
   "execution_count": 49,
   "metadata": {},
   "outputs": [],
   "source": [
    "credito_df = credito_df.drop('estacionalidad', axis=1)"
   ]
  },
  {
   "cell_type": "code",
   "execution_count": 50,
   "metadata": {},
   "outputs": [],
   "source": [
    "credito_df = credito_df.drop('dificul_contr_empl', axis=1)"
   ]
  },
  {
   "cell_type": "code",
   "execution_count": 51,
   "metadata": {},
   "outputs": [
    {
     "name": "stdout",
     "output_type": "stream",
     "text": [
      "1.0: 3328\n",
      "0.0: 3243\n"
     ]
    }
   ],
   "source": [
    "# Calcula las cantidades exactas de renuncia_personal\n",
    "conteo_valores3 = credito_df['renuncia_personal'].value_counts()\n",
    "\n",
    "# Muestra las cantidades exactas\n",
    "for valor, cantidad in conteo_valores3.items():\n",
    "    print(f'{valor}: {cantidad}')\n"
   ]
  },
  {
   "cell_type": "code",
   "execution_count": 52,
   "metadata": {},
   "outputs": [],
   "source": [
    "credito_df.drop(columns=['renuncia_personal'], inplace=True)"
   ]
  },
  {
   "cell_type": "code",
   "execution_count": 53,
   "metadata": {},
   "outputs": [],
   "source": [
    "credito_df.drop(columns=['apertura_negocio'], inplace=True)"
   ]
  },
  {
   "cell_type": "code",
   "execution_count": 54,
   "metadata": {},
   "outputs": [],
   "source": [
    "credito_df.drop(columns=['expansion_empresa'], inplace=True)"
   ]
  },
  {
   "cell_type": "code",
   "execution_count": 55,
   "metadata": {},
   "outputs": [],
   "source": [
    "mapeo_capacidad_tec_requeri = {\n",
    "    '¿Malo?': 1,\n",
    "    '¿Regular?': 2,\n",
    "    '¿Bueno?': 3,\n",
    "    '¿Muy bueno?': 4\n",
    "}\n",
    "\n",
    "\n",
    "# Aplicar el mapeo a la columna \"capacidad_tec_requeri\"\n",
    "credito_df['capacidad_tec_requeri_numerico'] = credito_df['capacidad_tec_requeri'].map(mapeo_capacidad_tec_requeri)"
   ]
  },
  {
   "cell_type": "code",
   "execution_count": 56,
   "metadata": {},
   "outputs": [],
   "source": [
    "# Eliminar la columna original \"capacidad_tec_requeri\" categórica\n",
    "credito_df = credito_df.drop('capacidad_tec_requeri', axis=1)"
   ]
  },
  {
   "cell_type": "code",
   "execution_count": 57,
   "metadata": {},
   "outputs": [],
   "source": [
    "credito_df = credito_df.drop('modalidad_compra', axis=1)"
   ]
  },
  {
   "cell_type": "code",
   "execution_count": 58,
   "metadata": {},
   "outputs": [],
   "source": [
    "credito_df = credito_df.drop('tipo_regist_decompr', axis=1)"
   ]
  },
  {
   "cell_type": "code",
   "execution_count": 59,
   "metadata": {},
   "outputs": [],
   "source": [
    "credito_df = credito_df.drop('pago_adelantado_nac', axis=1)"
   ]
  },
  {
   "cell_type": "code",
   "execution_count": 60,
   "metadata": {},
   "outputs": [],
   "source": [
    "credito_df = credito_df.drop('pago_contraentreg_nac', axis=1)"
   ]
  },
  {
   "cell_type": "code",
   "execution_count": 61,
   "metadata": {},
   "outputs": [],
   "source": [
    "credito_df = credito_df.drop('pago_plazo_instrumfin_nac', axis=1)"
   ]
  },
  {
   "cell_type": "code",
   "execution_count": 62,
   "metadata": {},
   "outputs": [],
   "source": [
    "credito_df = credito_df.drop('compr_intern', axis=1)"
   ]
  },
  {
   "cell_type": "code",
   "execution_count": 63,
   "metadata": {},
   "outputs": [],
   "source": [
    "credito_df = credito_df.drop('almaceno_prod_insu_merc', axis=1)"
   ]
  },
  {
   "cell_type": "code",
   "execution_count": 64,
   "metadata": {},
   "outputs": [],
   "source": [
    "credito_df = credito_df.drop('tecnolg_utilizada_prod', axis=1)"
   ]
  },
  {
   "cell_type": "code",
   "execution_count": 65,
   "metadata": {},
   "outputs": [],
   "source": [
    "credito_df = credito_df.drop('factores_de_producc', axis=1)"
   ]
  },
  {
   "cell_type": "code",
   "execution_count": 66,
   "metadata": {},
   "outputs": [],
   "source": [
    "credito_df = credito_df.drop('frecuencia_mantenimiento', axis=1)"
   ]
  },
  {
   "cell_type": "code",
   "execution_count": 67,
   "metadata": {},
   "outputs": [],
   "source": [
    "credito_df = credito_df.drop('recicla', axis=1)"
   ]
  },
  {
   "cell_type": "code",
   "execution_count": 68,
   "metadata": {},
   "outputs": [],
   "source": [
    "credito_df = credito_df.drop('sistem_refrigeracion', axis=1)"
   ]
  },
  {
   "cell_type": "code",
   "execution_count": 69,
   "metadata": {},
   "outputs": [],
   "source": [
    "credito_df = credito_df.drop('principal_modalid_venta', axis=1)"
   ]
  },
  {
   "cell_type": "code",
   "execution_count": 70,
   "metadata": {},
   "outputs": [],
   "source": [
    "mapeo_contrato_otras_empr = {\n",
    "    'No': 0,\n",
    "    'Si': 1\n",
    "}\n",
    " \n",
    "# Aplicar el mapeo a la columna \"contrato_otras_empr\"\n",
    "credito_df['contrato_otras_empr_numerico'] = credito_df['contrato_otras_empr'].map(mapeo_contrato_otras_empr)"
   ]
  },
  {
   "cell_type": "code",
   "execution_count": 71,
   "metadata": {},
   "outputs": [],
   "source": [
    "credito_df = credito_df.drop('contrato_otras_empr', axis=1)"
   ]
  },
  {
   "cell_type": "code",
   "execution_count": 72,
   "metadata": {},
   "outputs": [],
   "source": [
    "credito_df = credito_df.drop('estud_mercad', axis=1)"
   ]
  },
  {
   "cell_type": "code",
   "execution_count": 73,
   "metadata": {},
   "outputs": [],
   "source": [
    "credito_df = credito_df.drop('promocion_comerc', axis=1)"
   ]
  },
  {
   "cell_type": "code",
   "execution_count": 74,
   "metadata": {},
   "outputs": [],
   "source": [
    "credito_df = credito_df.drop('realiza_vents_inter', axis=1)"
   ]
  },
  {
   "cell_type": "code",
   "execution_count": 75,
   "metadata": {},
   "outputs": [],
   "source": [
    "mapeo_como_lleva_contavilidad = {\n",
    "    'No sabe/ no opina': 0,\n",
    "    '¿No lleva cuentas?': 1,\n",
    "    '¿Apuntes,registros o anotaciones personales?': 2,\n",
    "    '¿Libros o sistemas de contabilidad?': 3,\n",
    "}\n",
    " \n",
    "# Aplicar el mapeo a la columna \"como_lleva_contavilidad\"\n",
    "credito_df['como_lleva_contavilidad_numerico'] = credito_df['como_lleva_contavilidad'].map(mapeo_como_lleva_contavilidad)"
   ]
  },
  {
   "cell_type": "code",
   "execution_count": 76,
   "metadata": {},
   "outputs": [],
   "source": [
    "credito_df = credito_df.drop('como_lleva_contavilidad', axis=1)"
   ]
  },
  {
   "cell_type": "code",
   "execution_count": 77,
   "metadata": {},
   "outputs": [],
   "source": [
    "# Calcular la moda de la columna 'como_lleva_contavilidad_numerico'\n",
    "moda = credito_df['como_lleva_contavilidad_numerico'].mode()[0]"
   ]
  },
  {
   "cell_type": "code",
   "execution_count": 78,
   "metadata": {},
   "outputs": [],
   "source": [
    "# Reemplazar los valores nulos con la moda\n",
    "credito_df['como_lleva_contavilidad_numerico'].fillna(moda, inplace=True)"
   ]
  },
  {
   "cell_type": "code",
   "execution_count": 79,
   "metadata": {},
   "outputs": [],
   "source": [
    "credito_df = credito_df.drop('conoce_tributos', axis=1)"
   ]
  },
  {
   "cell_type": "code",
   "execution_count": 80,
   "metadata": {},
   "outputs": [],
   "source": [
    "credito_df = credito_df.drop('difict_pago_inpuest', axis=1)"
   ]
  },
  {
   "cell_type": "code",
   "execution_count": 81,
   "metadata": {},
   "outputs": [],
   "source": [
    "credito_df.drop(columns=['pago_adelt_int'], inplace=True)"
   ]
  },
  {
   "cell_type": "code",
   "execution_count": 82,
   "metadata": {},
   "outputs": [],
   "source": [
    "credito_df.drop(columns=['pago_contraentre_int'], inplace=True)"
   ]
  },
  {
   "cell_type": "code",
   "execution_count": 83,
   "metadata": {},
   "outputs": [],
   "source": [
    "credito_df.drop(columns=['pago_plazo_instrumfin_int'], inplace=True)"
   ]
  },
  {
   "cell_type": "code",
   "execution_count": 84,
   "metadata": {},
   "outputs": [],
   "source": [
    "credito_df.drop(columns=['almaceno_casa_vivienda'], inplace=True)"
   ]
  },
  {
   "cell_type": "code",
   "execution_count": 85,
   "metadata": {},
   "outputs": [],
   "source": [
    "credito_df.drop(columns=['almaceno_empresa'], inplace=True)"
   ]
  },
  {
   "cell_type": "code",
   "execution_count": 86,
   "metadata": {},
   "outputs": [],
   "source": [
    "mapeo_benef_trib = {\n",
    "    'No': 0,\n",
    "    'Si': 1,\n",
    "    'No sabe, No opina': 0  \n",
    "}\n",
    "\n",
    "# Aplicar el mapeo a la columna \"benef_trib\"\n",
    "credito_df['benef_trib_numerico'] = credito_df['benef_trib'].map(mapeo_benef_trib)\n"
   ]
  },
  {
   "cell_type": "code",
   "execution_count": 87,
   "metadata": {},
   "outputs": [],
   "source": [
    "credito_df.drop(columns=['benef_trib'], inplace=True)"
   ]
  },
  {
   "cell_type": "code",
   "execution_count": 88,
   "metadata": {},
   "outputs": [],
   "source": [
    "credito_df.drop(columns=['cetificado'], inplace=True)"
   ]
  },
  {
   "cell_type": "code",
   "execution_count": 89,
   "metadata": {},
   "outputs": [],
   "source": [
    "credito_df.drop(columns=['pc'], inplace=True)"
   ]
  },
  {
   "cell_type": "code",
   "execution_count": 90,
   "metadata": {},
   "outputs": [],
   "source": [
    "credito_df.drop(columns=['laptop_table'], inplace=True)"
   ]
  },
  {
   "cell_type": "code",
   "execution_count": 91,
   "metadata": {},
   "outputs": [],
   "source": [
    "# Reemplazar valores nulos en 'pc_cantidad' con 0\n",
    "credito_df['pc_cantidad'].fillna(0, inplace=True)"
   ]
  },
  {
   "cell_type": "code",
   "execution_count": 92,
   "metadata": {},
   "outputs": [],
   "source": [
    "# Reemplazar valores nulos en 'laptop_tablec_cantidad' con 0\n",
    "credito_df['laptop_tablec_cantidad'].fillna(0, inplace=True)"
   ]
  },
  {
   "cell_type": "code",
   "execution_count": 93,
   "metadata": {},
   "outputs": [],
   "source": [
    "credito_df.drop(columns=['impresora'], inplace=True)"
   ]
  },
  {
   "cell_type": "code",
   "execution_count": 94,
   "metadata": {},
   "outputs": [],
   "source": [
    "credito_df.drop(columns=['impresora_cantidad'], inplace=True)"
   ]
  },
  {
   "cell_type": "code",
   "execution_count": 95,
   "metadata": {},
   "outputs": [],
   "source": [
    "credito_df.drop(columns=['escaner'], inplace=True)"
   ]
  },
  {
   "cell_type": "code",
   "execution_count": 96,
   "metadata": {},
   "outputs": [],
   "source": [
    "credito_df.drop(columns=['escaner_cantidad'], inplace=True)"
   ]
  },
  {
   "cell_type": "code",
   "execution_count": 97,
   "metadata": {},
   "outputs": [],
   "source": [
    "credito_df.drop(columns=['perdida_humana'], inplace=True)"
   ]
  },
  {
   "cell_type": "code",
   "execution_count": 98,
   "metadata": {},
   "outputs": [],
   "source": [
    "credito_df.drop(columns=['perdida_activos'], inplace=True)"
   ]
  },
  {
   "cell_type": "code",
   "execution_count": 99,
   "metadata": {},
   "outputs": [],
   "source": [
    "credito_df.drop(columns=['sofware_contrable'], inplace=True)"
   ]
  },
  {
   "cell_type": "code",
   "execution_count": 100,
   "metadata": {},
   "outputs": [],
   "source": [
    "credito_df.drop(columns=['sofware_ventas'], inplace=True)"
   ]
  },
  {
   "cell_type": "code",
   "execution_count": 101,
   "metadata": {},
   "outputs": [],
   "source": [
    "credito_df.drop(columns=['sofware_personal'], inplace=True)"
   ]
  },
  {
   "cell_type": "code",
   "execution_count": 102,
   "metadata": {},
   "outputs": [],
   "source": [
    "credito_df.drop(columns=['sofware_finanzas'], inplace=True)"
   ]
  },
  {
   "cell_type": "code",
   "execution_count": 103,
   "metadata": {},
   "outputs": [],
   "source": [
    "credito_df.drop(columns=['sofware_logistica'], inplace=True)"
   ]
  },
  {
   "cell_type": "code",
   "execution_count": 104,
   "metadata": {},
   "outputs": [],
   "source": [
    "credito_df.drop(columns=['sofware_produccion'], inplace=True)"
   ]
  },
  {
   "cell_type": "code",
   "execution_count": 105,
   "metadata": {},
   "outputs": [],
   "source": [
    "credito_df['internet'].fillna(0, inplace=True)"
   ]
  },
  {
   "cell_type": "code",
   "execution_count": 106,
   "metadata": {},
   "outputs": [],
   "source": [
    "credito_df['intranet'].fillna(0, inplace=True)"
   ]
  },
  {
   "cell_type": "code",
   "execution_count": 107,
   "metadata": {},
   "outputs": [
    {
     "name": "stdout",
     "output_type": "stream",
     "text": [
      "Valores y sus frecuencias en la columna 'robo':\n",
      "robo\n",
      "0.0    11571\n",
      "1.0     2655\n",
      "Name: count, dtype: int64\n"
     ]
    }
   ],
   "source": [
    "#La variable robo podría tener influencia en la decisión de otorgar o no credito, por eso debemos hacer enfasis\n",
    "conteo_robo = credito_df['robo'].value_counts()\n",
    "print(\"Valores y sus frecuencias en la columna 'robo':\")\n",
    "print(conteo_robo)"
   ]
  },
  {
   "cell_type": "code",
   "execution_count": 108,
   "metadata": {},
   "outputs": [
    {
     "name": "stdout",
     "output_type": "stream",
     "text": [
      "Cantidad de valores nulos en la columna 'robo': 0\n"
     ]
    }
   ],
   "source": [
    "nulos_robo = credito_df['robo'].isnull().sum()\n",
    "print(f\"Cantidad de valores nulos en la columna 'robo': {nulos_robo}\")"
   ]
  },
  {
   "cell_type": "code",
   "execution_count": 109,
   "metadata": {},
   "outputs": [
    {
     "name": "stdout",
     "output_type": "stream",
     "text": [
      "Valores y sus frecuencias en la columna 'intento_robo':\n",
      "intento_robo\n",
      "0.0    13459\n",
      "1.0      767\n",
      "Name: count, dtype: int64\n"
     ]
    }
   ],
   "source": [
    "#La variable intento de robo podría tener influencia en la decisión de otorgar o no credito, por eso debemos hacer enfasis\n",
    "conteo_intento_robo = credito_df['intento_robo'].value_counts()\n",
    "print(\"Valores y sus frecuencias en la columna 'intento_robo':\")\n",
    "print(conteo_intento_robo)"
   ]
  },
  {
   "cell_type": "code",
   "execution_count": 110,
   "metadata": {},
   "outputs": [
    {
     "name": "stdout",
     "output_type": "stream",
     "text": [
      "Cantidad de valores nulos en la columna 'intento_robo': 0\n"
     ]
    }
   ],
   "source": [
    "nulos_intento_robo = credito_df['intento_robo'].isnull().sum()\n",
    "print(f\"Cantidad de valores nulos en la columna 'intento_robo': {nulos_intento_robo}\")"
   ]
  },
  {
   "cell_type": "code",
   "execution_count": 111,
   "metadata": {},
   "outputs": [
    {
     "name": "stdout",
     "output_type": "stream",
     "text": [
      "\n",
      "Valores y sus frecuencias en la columna 'extorcion':\n",
      "extorcion\n",
      "0.0    13717\n",
      "1.0      509\n",
      "Name: count, dtype: int64\n"
     ]
    }
   ],
   "source": [
    "#La variable extorsion podría tener influencia en la decisión de otorgar o no credito, por eso debemos hacer enfasis\n",
    "conteo_extorsion = credito_df['extorcion'].value_counts()\n",
    "print(\"\\nValores y sus frecuencias en la columna 'extorcion':\")\n",
    "print(conteo_extorsion)"
   ]
  },
  {
   "cell_type": "code",
   "execution_count": 112,
   "metadata": {},
   "outputs": [
    {
     "name": "stdout",
     "output_type": "stream",
     "text": [
      "Cantidad de valores nulos en la columna 'extorcion': 0\n"
     ]
    }
   ],
   "source": [
    "nulos_extorsion = credito_df['extorcion'].isnull().sum()\n",
    "print(f\"Cantidad de valores nulos en la columna 'extorcion': {nulos_extorsion}\")"
   ]
  },
  {
   "cell_type": "code",
   "execution_count": 113,
   "metadata": {},
   "outputs": [
    {
     "name": "stdout",
     "output_type": "stream",
     "text": [
      "Cantidad de valores nulos en la columna 'seguridad_infraest': 0\n"
     ]
    }
   ],
   "source": [
    "nulos_seguridad_infraest = credito_df['seguridad_infraest'].isnull().sum()\n",
    "print(f\"Cantidad de valores nulos en la columna 'seguridad_infraest': {nulos_seguridad_infraest}\")"
   ]
  },
  {
   "cell_type": "code",
   "execution_count": 114,
   "metadata": {},
   "outputs": [
    {
     "name": "stdout",
     "output_type": "stream",
     "text": [
      "Cantidad de valores nulos en la columna 'seguridad_video': 0\n"
     ]
    }
   ],
   "source": [
    "nulos_seguridad_video = credito_df['seguridad_video'].isnull().sum()\n",
    "print(f\"Cantidad de valores nulos en la columna 'seguridad_video': {nulos_seguridad_video}\")"
   ]
  },
  {
   "cell_type": "code",
   "execution_count": 115,
   "metadata": {},
   "outputs": [
    {
     "name": "stdout",
     "output_type": "stream",
     "text": [
      "Cantidad de valores nulos en la columna 'seguridad_sist_control_pers': 0\n"
     ]
    }
   ],
   "source": [
    "nulos_seguridad_sist_control_pers = credito_df['seguridad_sist_control_pers'].isnull().sum()\n",
    "print(f\"Cantidad de valores nulos en la columna 'seguridad_sist_control_pers': {nulos_seguridad_sist_control_pers}\")"
   ]
  },
  {
   "cell_type": "code",
   "execution_count": 116,
   "metadata": {},
   "outputs": [
    {
     "name": "stdout",
     "output_type": "stream",
     "text": [
      "Cantidad de valores nulos en la columna 'seguridad_alarma': 0\n"
     ]
    }
   ],
   "source": [
    "nulos_seguridad_alarma = credito_df['seguridad_alarma'].isnull().sum()\n",
    "print(f\"Cantidad de valores nulos en la columna 'seguridad_alarma': {nulos_seguridad_alarma}\")"
   ]
  },
  {
   "cell_type": "code",
   "execution_count": 118,
   "metadata": {},
   "outputs": [],
   "source": [
    "#dropeamos algunas de las columnas que antes usamos para crear el outcome y otras que ya no usaremos\n",
    "columnas_a_eliminar = [\n",
    "    'credito_capital_solicito',\n",
    "    'credito_capital_utilizo',\n",
    "    'credito_actifijo_solicito',\n",
    "    'credito_actifijo_utilizo',\n",
    "    'credito_consumo_solicito',\n",
    "    'credito_consumo_utilizo',\n",
    "    'credito_monto_soles',\n",
    "    'credito_cuota_mensual',\n",
    "    'credito_plazo'\n",
    "]\n",
    "\n",
    "credito_df.drop(columns=columnas_a_eliminar, inplace=True)\n"
   ]
  },
  {
   "cell_type": "code",
   "execution_count": 119,
   "metadata": {},
   "outputs": [],
   "source": [
    "# Mapear 'Si' a 1 y 'No' a 0 para creditos de prestamistas\n",
    "credito_df['credito_prestamista_accedio_num'] = credito_df['credito_prestamista_accedio'].map({'Si': 1, 'No': 0})\n",
    "\n",
    "# Borrar la antigua variable 'credito_prestamista_accedio'\n",
    "credito_df.drop(columns=['credito_prestamista_accedio'], inplace=True)\n"
   ]
  },
  {
   "cell_type": "code",
   "execution_count": 120,
   "metadata": {},
   "outputs": [],
   "source": [
    "# Mapear 'Si' a 1 y 'No' a 0 para problemas de liquidez\n",
    "credito_df['liquidez_problema_num'] = credito_df['liquidez_problema'].map({'Si': 1, 'No': 0})\n",
    "\n",
    "# Borrar la antigua variable \n",
    "credito_df.drop(columns=['liquidez_problema'], inplace=True)\n"
   ]
  },
  {
   "cell_type": "code",
   "execution_count": 121,
   "metadata": {},
   "outputs": [],
   "source": [
    "credito_df.drop(columns=['regimen_tributario'], inplace=True)"
   ]
  },
  {
   "cell_type": "code",
   "execution_count": 122,
   "metadata": {},
   "outputs": [],
   "source": [
    "credito_df.drop(columns=['tributario__facil_dificil'], inplace=True)"
   ]
  },
  {
   "cell_type": "code",
   "execution_count": 123,
   "metadata": {},
   "outputs": [],
   "source": [
    "credito_df.drop(columns=['tributosmun_facil_dificil'], inplace=True)"
   ]
  },
  {
   "cell_type": "code",
   "execution_count": 124,
   "metadata": {},
   "outputs": [],
   "source": [
    "credito_df.drop(columns=['atendio_auditorias'], inplace=True)"
   ]
  },
  {
   "cell_type": "code",
   "execution_count": 125,
   "metadata": {},
   "outputs": [],
   "source": [
    "credito_df.drop(columns=['venta_mercaderia'], inplace=True)"
   ]
  },
  {
   "cell_type": "code",
   "execution_count": 126,
   "metadata": {},
   "outputs": [],
   "source": [
    "credito_df.drop(columns=['costo_venta_merca'], inplace=True)"
   ]
  },
  {
   "cell_type": "code",
   "execution_count": 127,
   "metadata": {},
   "outputs": [],
   "source": [
    "credito_df.drop(columns=['otros_ingresos'], inplace=True)"
   ]
  },
  {
   "cell_type": "code",
   "execution_count": 128,
   "metadata": {},
   "outputs": [],
   "source": [
    "credito_df.drop(columns=['margen_comercial'], inplace=True)"
   ]
  },
  {
   "cell_type": "code",
   "execution_count": 129,
   "metadata": {},
   "outputs": [],
   "source": [
    "credito_df.drop(columns=['ventas_pruductos'], inplace=True)"
   ]
  },
  {
   "cell_type": "code",
   "execution_count": 130,
   "metadata": {},
   "outputs": [],
   "source": [
    "credito_df.drop(columns=['prestacion_servicios'], inplace=True)"
   ]
  },
  {
   "cell_type": "code",
   "execution_count": 131,
   "metadata": {},
   "outputs": [],
   "source": [
    "# Llenar los valores nulos en 'total_ingreso' con 0\n",
    "credito_df['total_ingreso'].fillna(0, inplace=True)"
   ]
  },
  {
   "cell_type": "code",
   "execution_count": 132,
   "metadata": {},
   "outputs": [
    {
     "data": {
      "text/html": [
       "<div>\n",
       "<style scoped>\n",
       "    .dataframe tbody tr th:only-of-type {\n",
       "        vertical-align: middle;\n",
       "    }\n",
       "\n",
       "    .dataframe tbody tr th {\n",
       "        vertical-align: top;\n",
       "    }\n",
       "\n",
       "    .dataframe thead th {\n",
       "        text-align: right;\n",
       "    }\n",
       "</style>\n",
       "<table border=\"1\" class=\"dataframe\">\n",
       "  <thead>\n",
       "    <tr style=\"text-align: right;\">\n",
       "      <th></th>\n",
       "      <th>anio_fun</th>\n",
       "      <th>edad</th>\n",
       "      <th>sal_ejec</th>\n",
       "      <th>sal_emple</th>\n",
       "      <th>sal_obr_per</th>\n",
       "      <th>reposicion_de_equip_anti</th>\n",
       "      <th>mejoras_equipo</th>\n",
       "      <th>expansion_capacidad_prod</th>\n",
       "      <th>pc_cantidad</th>\n",
       "      <th>laptop_tablec_cantidad</th>\n",
       "      <th>...</th>\n",
       "      <th>areas_funcionales_numerico</th>\n",
       "      <th>mercado_numerico</th>\n",
       "      <th>competencia_numerico</th>\n",
       "      <th>org_empresarial_numerico</th>\n",
       "      <th>capacidad_tec_requeri_numerico</th>\n",
       "      <th>contrato_otras_empr_numerico</th>\n",
       "      <th>como_lleva_contavilidad_numerico</th>\n",
       "      <th>benef_trib_numerico</th>\n",
       "      <th>credito_prestamista_accedio_num</th>\n",
       "      <th>liquidez_problema_num</th>\n",
       "    </tr>\n",
       "  </thead>\n",
       "  <tbody>\n",
       "    <tr>\n",
       "      <th>1</th>\n",
       "      <td>2006.0</td>\n",
       "      <td>68.0</td>\n",
       "      <td>2000.0</td>\n",
       "      <td>1200.0</td>\n",
       "      <td>800.0</td>\n",
       "      <td>1.0</td>\n",
       "      <td>1.0</td>\n",
       "      <td>0.0</td>\n",
       "      <td>9.0</td>\n",
       "      <td>0.0</td>\n",
       "      <td>...</td>\n",
       "      <td>1</td>\n",
       "      <td>0</td>\n",
       "      <td>1</td>\n",
       "      <td>0</td>\n",
       "      <td>3</td>\n",
       "      <td>0</td>\n",
       "      <td>3.0</td>\n",
       "      <td>0</td>\n",
       "      <td>0</td>\n",
       "      <td>0</td>\n",
       "    </tr>\n",
       "    <tr>\n",
       "      <th>3</th>\n",
       "      <td>2002.0</td>\n",
       "      <td>55.0</td>\n",
       "      <td>4900.0</td>\n",
       "      <td>3600.0</td>\n",
       "      <td>2100.0</td>\n",
       "      <td>1.0</td>\n",
       "      <td>1.0</td>\n",
       "      <td>1.0</td>\n",
       "      <td>24.0</td>\n",
       "      <td>4.0</td>\n",
       "      <td>...</td>\n",
       "      <td>1</td>\n",
       "      <td>0</td>\n",
       "      <td>1</td>\n",
       "      <td>0</td>\n",
       "      <td>4</td>\n",
       "      <td>1</td>\n",
       "      <td>3.0</td>\n",
       "      <td>0</td>\n",
       "      <td>0</td>\n",
       "      <td>0</td>\n",
       "    </tr>\n",
       "    <tr>\n",
       "      <th>4</th>\n",
       "      <td>2011.0</td>\n",
       "      <td>52.0</td>\n",
       "      <td>1400.0</td>\n",
       "      <td>1500.0</td>\n",
       "      <td>1200.0</td>\n",
       "      <td>0.0</td>\n",
       "      <td>0.0</td>\n",
       "      <td>0.0</td>\n",
       "      <td>1.0</td>\n",
       "      <td>1.0</td>\n",
       "      <td>...</td>\n",
       "      <td>0</td>\n",
       "      <td>0</td>\n",
       "      <td>2</td>\n",
       "      <td>0</td>\n",
       "      <td>3</td>\n",
       "      <td>0</td>\n",
       "      <td>3.0</td>\n",
       "      <td>0</td>\n",
       "      <td>0</td>\n",
       "      <td>0</td>\n",
       "    </tr>\n",
       "    <tr>\n",
       "      <th>7</th>\n",
       "      <td>1941.0</td>\n",
       "      <td>62.0</td>\n",
       "      <td>13625.0</td>\n",
       "      <td>1500.0</td>\n",
       "      <td>1200.0</td>\n",
       "      <td>0.0</td>\n",
       "      <td>0.0</td>\n",
       "      <td>0.0</td>\n",
       "      <td>30.0</td>\n",
       "      <td>10.0</td>\n",
       "      <td>...</td>\n",
       "      <td>1</td>\n",
       "      <td>1</td>\n",
       "      <td>2</td>\n",
       "      <td>0</td>\n",
       "      <td>3</td>\n",
       "      <td>0</td>\n",
       "      <td>3.0</td>\n",
       "      <td>0</td>\n",
       "      <td>0</td>\n",
       "      <td>0</td>\n",
       "    </tr>\n",
       "    <tr>\n",
       "      <th>8</th>\n",
       "      <td>2009.0</td>\n",
       "      <td>43.0</td>\n",
       "      <td>6000.0</td>\n",
       "      <td>3500.0</td>\n",
       "      <td>1200.0</td>\n",
       "      <td>0.0</td>\n",
       "      <td>1.0</td>\n",
       "      <td>0.0</td>\n",
       "      <td>4.0</td>\n",
       "      <td>5.0</td>\n",
       "      <td>...</td>\n",
       "      <td>1</td>\n",
       "      <td>0</td>\n",
       "      <td>1</td>\n",
       "      <td>0</td>\n",
       "      <td>4</td>\n",
       "      <td>1</td>\n",
       "      <td>3.0</td>\n",
       "      <td>0</td>\n",
       "      <td>0</td>\n",
       "      <td>1</td>\n",
       "    </tr>\n",
       "  </tbody>\n",
       "</table>\n",
       "<p>5 rows × 56 columns</p>\n",
       "</div>"
      ],
      "text/plain": [
       "   anio_fun  edad  sal_ejec  sal_emple  sal_obr_per  reposicion_de_equip_anti  \\\n",
       "1    2006.0  68.0    2000.0     1200.0        800.0                       1.0   \n",
       "3    2002.0  55.0    4900.0     3600.0       2100.0                       1.0   \n",
       "4    2011.0  52.0    1400.0     1500.0       1200.0                       0.0   \n",
       "7    1941.0  62.0   13625.0     1500.0       1200.0                       0.0   \n",
       "8    2009.0  43.0    6000.0     3500.0       1200.0                       0.0   \n",
       "\n",
       "   mejoras_equipo  expansion_capacidad_prod  pc_cantidad  \\\n",
       "1             1.0                       0.0          9.0   \n",
       "3             1.0                       1.0         24.0   \n",
       "4             0.0                       0.0          1.0   \n",
       "7             0.0                       0.0         30.0   \n",
       "8             1.0                       0.0          4.0   \n",
       "\n",
       "   laptop_tablec_cantidad  ...  areas_funcionales_numerico  mercado_numerico  \\\n",
       "1                     0.0  ...                           1                 0   \n",
       "3                     4.0  ...                           1                 0   \n",
       "4                     1.0  ...                           0                 0   \n",
       "7                    10.0  ...                           1                 1   \n",
       "8                     5.0  ...                           1                 0   \n",
       "\n",
       "   competencia_numerico  org_empresarial_numerico  \\\n",
       "1                     1                         0   \n",
       "3                     1                         0   \n",
       "4                     2                         0   \n",
       "7                     2                         0   \n",
       "8                     1                         0   \n",
       "\n",
       "   capacidad_tec_requeri_numerico  contrato_otras_empr_numerico  \\\n",
       "1                               3                             0   \n",
       "3                               4                             1   \n",
       "4                               3                             0   \n",
       "7                               3                             0   \n",
       "8                               4                             1   \n",
       "\n",
       "   como_lleva_contavilidad_numerico  benef_trib_numerico  \\\n",
       "1                               3.0                    0   \n",
       "3                               3.0                    0   \n",
       "4                               3.0                    0   \n",
       "7                               3.0                    0   \n",
       "8                               3.0                    0   \n",
       "\n",
       "   credito_prestamista_accedio_num liquidez_problema_num  \n",
       "1                                0                     0  \n",
       "3                                0                     0  \n",
       "4                                0                     0  \n",
       "7                                0                     0  \n",
       "8                                0                     1  \n",
       "\n",
       "[5 rows x 56 columns]"
      ]
     },
     "execution_count": 132,
     "metadata": {},
     "output_type": "execute_result"
    }
   ],
   "source": [
    "credito_df.head()"
   ]
  },
  {
   "cell_type": "code",
   "execution_count": 133,
   "metadata": {},
   "outputs": [
    {
     "data": {
      "text/html": [
       "<div>\n",
       "<style scoped>\n",
       "    .dataframe tbody tr th:only-of-type {\n",
       "        vertical-align: middle;\n",
       "    }\n",
       "\n",
       "    .dataframe tbody tr th {\n",
       "        vertical-align: top;\n",
       "    }\n",
       "\n",
       "    .dataframe thead th {\n",
       "        text-align: right;\n",
       "    }\n",
       "</style>\n",
       "<table border=\"1\" class=\"dataframe\">\n",
       "  <thead>\n",
       "    <tr style=\"text-align: right;\">\n",
       "      <th></th>\n",
       "      <th>anio_fun</th>\n",
       "      <th>edad</th>\n",
       "      <th>sal_ejec</th>\n",
       "      <th>sal_emple</th>\n",
       "      <th>sal_obr_per</th>\n",
       "      <th>reposicion_de_equip_anti</th>\n",
       "      <th>mejoras_equipo</th>\n",
       "      <th>expansion_capacidad_prod</th>\n",
       "      <th>pc_cantidad</th>\n",
       "      <th>laptop_tablec_cantidad</th>\n",
       "      <th>...</th>\n",
       "      <th>areas_funcionales_numerico</th>\n",
       "      <th>mercado_numerico</th>\n",
       "      <th>competencia_numerico</th>\n",
       "      <th>org_empresarial_numerico</th>\n",
       "      <th>capacidad_tec_requeri_numerico</th>\n",
       "      <th>contrato_otras_empr_numerico</th>\n",
       "      <th>como_lleva_contavilidad_numerico</th>\n",
       "      <th>benef_trib_numerico</th>\n",
       "      <th>credito_prestamista_accedio_num</th>\n",
       "      <th>liquidez_problema_num</th>\n",
       "    </tr>\n",
       "  </thead>\n",
       "  <tbody>\n",
       "    <tr>\n",
       "      <th>1</th>\n",
       "      <td>2006.0</td>\n",
       "      <td>68.0</td>\n",
       "      <td>2000.0</td>\n",
       "      <td>1200.0</td>\n",
       "      <td>800.0</td>\n",
       "      <td>1.0</td>\n",
       "      <td>1.0</td>\n",
       "      <td>0.0</td>\n",
       "      <td>9.0</td>\n",
       "      <td>0.0</td>\n",
       "      <td>...</td>\n",
       "      <td>1</td>\n",
       "      <td>0</td>\n",
       "      <td>1</td>\n",
       "      <td>0</td>\n",
       "      <td>3</td>\n",
       "      <td>0</td>\n",
       "      <td>3.0</td>\n",
       "      <td>0</td>\n",
       "      <td>0</td>\n",
       "      <td>0</td>\n",
       "    </tr>\n",
       "    <tr>\n",
       "      <th>3</th>\n",
       "      <td>2002.0</td>\n",
       "      <td>55.0</td>\n",
       "      <td>4900.0</td>\n",
       "      <td>3600.0</td>\n",
       "      <td>2100.0</td>\n",
       "      <td>1.0</td>\n",
       "      <td>1.0</td>\n",
       "      <td>1.0</td>\n",
       "      <td>24.0</td>\n",
       "      <td>4.0</td>\n",
       "      <td>...</td>\n",
       "      <td>1</td>\n",
       "      <td>0</td>\n",
       "      <td>1</td>\n",
       "      <td>0</td>\n",
       "      <td>4</td>\n",
       "      <td>1</td>\n",
       "      <td>3.0</td>\n",
       "      <td>0</td>\n",
       "      <td>0</td>\n",
       "      <td>0</td>\n",
       "    </tr>\n",
       "    <tr>\n",
       "      <th>4</th>\n",
       "      <td>2011.0</td>\n",
       "      <td>52.0</td>\n",
       "      <td>1400.0</td>\n",
       "      <td>1500.0</td>\n",
       "      <td>1200.0</td>\n",
       "      <td>0.0</td>\n",
       "      <td>0.0</td>\n",
       "      <td>0.0</td>\n",
       "      <td>1.0</td>\n",
       "      <td>1.0</td>\n",
       "      <td>...</td>\n",
       "      <td>0</td>\n",
       "      <td>0</td>\n",
       "      <td>2</td>\n",
       "      <td>0</td>\n",
       "      <td>3</td>\n",
       "      <td>0</td>\n",
       "      <td>3.0</td>\n",
       "      <td>0</td>\n",
       "      <td>0</td>\n",
       "      <td>0</td>\n",
       "    </tr>\n",
       "    <tr>\n",
       "      <th>7</th>\n",
       "      <td>1941.0</td>\n",
       "      <td>62.0</td>\n",
       "      <td>13625.0</td>\n",
       "      <td>1500.0</td>\n",
       "      <td>1200.0</td>\n",
       "      <td>0.0</td>\n",
       "      <td>0.0</td>\n",
       "      <td>0.0</td>\n",
       "      <td>30.0</td>\n",
       "      <td>10.0</td>\n",
       "      <td>...</td>\n",
       "      <td>1</td>\n",
       "      <td>1</td>\n",
       "      <td>2</td>\n",
       "      <td>0</td>\n",
       "      <td>3</td>\n",
       "      <td>0</td>\n",
       "      <td>3.0</td>\n",
       "      <td>0</td>\n",
       "      <td>0</td>\n",
       "      <td>0</td>\n",
       "    </tr>\n",
       "    <tr>\n",
       "      <th>8</th>\n",
       "      <td>2009.0</td>\n",
       "      <td>43.0</td>\n",
       "      <td>6000.0</td>\n",
       "      <td>3500.0</td>\n",
       "      <td>1200.0</td>\n",
       "      <td>0.0</td>\n",
       "      <td>1.0</td>\n",
       "      <td>0.0</td>\n",
       "      <td>4.0</td>\n",
       "      <td>5.0</td>\n",
       "      <td>...</td>\n",
       "      <td>1</td>\n",
       "      <td>0</td>\n",
       "      <td>1</td>\n",
       "      <td>0</td>\n",
       "      <td>4</td>\n",
       "      <td>1</td>\n",
       "      <td>3.0</td>\n",
       "      <td>0</td>\n",
       "      <td>0</td>\n",
       "      <td>1</td>\n",
       "    </tr>\n",
       "  </tbody>\n",
       "</table>\n",
       "<p>5 rows × 56 columns</p>\n",
       "</div>"
      ],
      "text/plain": [
       "   anio_fun  edad  sal_ejec  sal_emple  sal_obr_per  reposicion_de_equip_anti  \\\n",
       "1    2006.0  68.0    2000.0     1200.0        800.0                       1.0   \n",
       "3    2002.0  55.0    4900.0     3600.0       2100.0                       1.0   \n",
       "4    2011.0  52.0    1400.0     1500.0       1200.0                       0.0   \n",
       "7    1941.0  62.0   13625.0     1500.0       1200.0                       0.0   \n",
       "8    2009.0  43.0    6000.0     3500.0       1200.0                       0.0   \n",
       "\n",
       "   mejoras_equipo  expansion_capacidad_prod  pc_cantidad  \\\n",
       "1             1.0                       0.0          9.0   \n",
       "3             1.0                       1.0         24.0   \n",
       "4             0.0                       0.0          1.0   \n",
       "7             0.0                       0.0         30.0   \n",
       "8             1.0                       0.0          4.0   \n",
       "\n",
       "   laptop_tablec_cantidad  ...  areas_funcionales_numerico  mercado_numerico  \\\n",
       "1                     0.0  ...                           1                 0   \n",
       "3                     4.0  ...                           1                 0   \n",
       "4                     1.0  ...                           0                 0   \n",
       "7                    10.0  ...                           1                 1   \n",
       "8                     5.0  ...                           1                 0   \n",
       "\n",
       "   competencia_numerico  org_empresarial_numerico  \\\n",
       "1                     1                         0   \n",
       "3                     1                         0   \n",
       "4                     2                         0   \n",
       "7                     2                         0   \n",
       "8                     1                         0   \n",
       "\n",
       "   capacidad_tec_requeri_numerico  contrato_otras_empr_numerico  \\\n",
       "1                               3                             0   \n",
       "3                               4                             1   \n",
       "4                               3                             0   \n",
       "7                               3                             0   \n",
       "8                               4                             1   \n",
       "\n",
       "   como_lleva_contavilidad_numerico  benef_trib_numerico  \\\n",
       "1                               3.0                    0   \n",
       "3                               3.0                    0   \n",
       "4                               3.0                    0   \n",
       "7                               3.0                    0   \n",
       "8                               3.0                    0   \n",
       "\n",
       "   credito_prestamista_accedio_num liquidez_problema_num  \n",
       "1                                0                     0  \n",
       "3                                0                     0  \n",
       "4                                0                     0  \n",
       "7                                0                     0  \n",
       "8                                0                     1  \n",
       "\n",
       "[5 rows x 56 columns]"
      ]
     },
     "metadata": {},
     "output_type": "display_data"
    },
    {
     "data": {
      "text/html": [
       "<div>\n",
       "<style scoped>\n",
       "    .dataframe tbody tr th:only-of-type {\n",
       "        vertical-align: middle;\n",
       "    }\n",
       "\n",
       "    .dataframe tbody tr th {\n",
       "        vertical-align: top;\n",
       "    }\n",
       "\n",
       "    .dataframe thead th {\n",
       "        text-align: right;\n",
       "    }\n",
       "</style>\n",
       "<table border=\"1\" class=\"dataframe\">\n",
       "  <thead>\n",
       "    <tr style=\"text-align: right;\">\n",
       "      <th></th>\n",
       "      <th>anio_fun</th>\n",
       "      <th>edad</th>\n",
       "      <th>sal_ejec</th>\n",
       "      <th>sal_emple</th>\n",
       "      <th>sal_obr_per</th>\n",
       "      <th>reposicion_de_equip_anti</th>\n",
       "      <th>mejoras_equipo</th>\n",
       "      <th>expansion_capacidad_prod</th>\n",
       "      <th>pc_cantidad</th>\n",
       "      <th>laptop_tablec_cantidad</th>\n",
       "      <th>...</th>\n",
       "      <th>areas_funcionales_numerico</th>\n",
       "      <th>mercado_numerico</th>\n",
       "      <th>competencia_numerico</th>\n",
       "      <th>org_empresarial_numerico</th>\n",
       "      <th>capacidad_tec_requeri_numerico</th>\n",
       "      <th>contrato_otras_empr_numerico</th>\n",
       "      <th>como_lleva_contavilidad_numerico</th>\n",
       "      <th>benef_trib_numerico</th>\n",
       "      <th>credito_prestamista_accedio_num</th>\n",
       "      <th>liquidez_problema_num</th>\n",
       "    </tr>\n",
       "  </thead>\n",
       "  <tbody>\n",
       "    <tr>\n",
       "      <th>19199</th>\n",
       "      <td>1994.0</td>\n",
       "      <td>43.0</td>\n",
       "      <td>4500.0</td>\n",
       "      <td>1400.0</td>\n",
       "      <td>1300.0</td>\n",
       "      <td>0.0</td>\n",
       "      <td>0.0</td>\n",
       "      <td>0.0</td>\n",
       "      <td>3.0</td>\n",
       "      <td>1.0</td>\n",
       "      <td>...</td>\n",
       "      <td>1</td>\n",
       "      <td>0</td>\n",
       "      <td>1</td>\n",
       "      <td>0</td>\n",
       "      <td>3</td>\n",
       "      <td>0</td>\n",
       "      <td>3.0</td>\n",
       "      <td>0</td>\n",
       "      <td>0</td>\n",
       "      <td>0</td>\n",
       "    </tr>\n",
       "    <tr>\n",
       "      <th>19200</th>\n",
       "      <td>2013.0</td>\n",
       "      <td>27.0</td>\n",
       "      <td>3500.0</td>\n",
       "      <td>1200.0</td>\n",
       "      <td>1200.0</td>\n",
       "      <td>1.0</td>\n",
       "      <td>1.0</td>\n",
       "      <td>1.0</td>\n",
       "      <td>3.0</td>\n",
       "      <td>1.0</td>\n",
       "      <td>...</td>\n",
       "      <td>1</td>\n",
       "      <td>1</td>\n",
       "      <td>1</td>\n",
       "      <td>0</td>\n",
       "      <td>3</td>\n",
       "      <td>0</td>\n",
       "      <td>3.0</td>\n",
       "      <td>0</td>\n",
       "      <td>0</td>\n",
       "      <td>0</td>\n",
       "    </tr>\n",
       "    <tr>\n",
       "      <th>19201</th>\n",
       "      <td>2008.0</td>\n",
       "      <td>28.0</td>\n",
       "      <td>2500.0</td>\n",
       "      <td>1500.0</td>\n",
       "      <td>1200.0</td>\n",
       "      <td>0.0</td>\n",
       "      <td>0.0</td>\n",
       "      <td>0.0</td>\n",
       "      <td>4.0</td>\n",
       "      <td>1.0</td>\n",
       "      <td>...</td>\n",
       "      <td>1</td>\n",
       "      <td>1</td>\n",
       "      <td>1</td>\n",
       "      <td>0</td>\n",
       "      <td>3</td>\n",
       "      <td>0</td>\n",
       "      <td>3.0</td>\n",
       "      <td>0</td>\n",
       "      <td>0</td>\n",
       "      <td>0</td>\n",
       "    </tr>\n",
       "    <tr>\n",
       "      <th>19202</th>\n",
       "      <td>2006.0</td>\n",
       "      <td>39.0</td>\n",
       "      <td>3800.0</td>\n",
       "      <td>99999.0</td>\n",
       "      <td>99999.0</td>\n",
       "      <td>0.0</td>\n",
       "      <td>1.0</td>\n",
       "      <td>1.0</td>\n",
       "      <td>9.0</td>\n",
       "      <td>2.0</td>\n",
       "      <td>...</td>\n",
       "      <td>1</td>\n",
       "      <td>0</td>\n",
       "      <td>1</td>\n",
       "      <td>0</td>\n",
       "      <td>3</td>\n",
       "      <td>0</td>\n",
       "      <td>3.0</td>\n",
       "      <td>0</td>\n",
       "      <td>0</td>\n",
       "      <td>0</td>\n",
       "    </tr>\n",
       "    <tr>\n",
       "      <th>19203</th>\n",
       "      <td>1985.0</td>\n",
       "      <td>43.0</td>\n",
       "      <td>3800.0</td>\n",
       "      <td>750.0</td>\n",
       "      <td>1200.0</td>\n",
       "      <td>0.0</td>\n",
       "      <td>0.0</td>\n",
       "      <td>1.0</td>\n",
       "      <td>2.0</td>\n",
       "      <td>1.0</td>\n",
       "      <td>...</td>\n",
       "      <td>1</td>\n",
       "      <td>1</td>\n",
       "      <td>1</td>\n",
       "      <td>0</td>\n",
       "      <td>3</td>\n",
       "      <td>0</td>\n",
       "      <td>3.0</td>\n",
       "      <td>0</td>\n",
       "      <td>0</td>\n",
       "      <td>0</td>\n",
       "    </tr>\n",
       "  </tbody>\n",
       "</table>\n",
       "<p>5 rows × 56 columns</p>\n",
       "</div>"
      ],
      "text/plain": [
       "       anio_fun  edad  sal_ejec  sal_emple  sal_obr_per  \\\n",
       "19199    1994.0  43.0    4500.0     1400.0       1300.0   \n",
       "19200    2013.0  27.0    3500.0     1200.0       1200.0   \n",
       "19201    2008.0  28.0    2500.0     1500.0       1200.0   \n",
       "19202    2006.0  39.0    3800.0    99999.0      99999.0   \n",
       "19203    1985.0  43.0    3800.0      750.0       1200.0   \n",
       "\n",
       "       reposicion_de_equip_anti  mejoras_equipo  expansion_capacidad_prod  \\\n",
       "19199                       0.0             0.0                       0.0   \n",
       "19200                       1.0             1.0                       1.0   \n",
       "19201                       0.0             0.0                       0.0   \n",
       "19202                       0.0             1.0                       1.0   \n",
       "19203                       0.0             0.0                       1.0   \n",
       "\n",
       "       pc_cantidad  laptop_tablec_cantidad  ...  areas_funcionales_numerico  \\\n",
       "19199          3.0                     1.0  ...                           1   \n",
       "19200          3.0                     1.0  ...                           1   \n",
       "19201          4.0                     1.0  ...                           1   \n",
       "19202          9.0                     2.0  ...                           1   \n",
       "19203          2.0                     1.0  ...                           1   \n",
       "\n",
       "       mercado_numerico  competencia_numerico  org_empresarial_numerico  \\\n",
       "19199                 0                     1                         0   \n",
       "19200                 1                     1                         0   \n",
       "19201                 1                     1                         0   \n",
       "19202                 0                     1                         0   \n",
       "19203                 1                     1                         0   \n",
       "\n",
       "       capacidad_tec_requeri_numerico  contrato_otras_empr_numerico  \\\n",
       "19199                               3                             0   \n",
       "19200                               3                             0   \n",
       "19201                               3                             0   \n",
       "19202                               3                             0   \n",
       "19203                               3                             0   \n",
       "\n",
       "       como_lleva_contavilidad_numerico  benef_trib_numerico  \\\n",
       "19199                               3.0                    0   \n",
       "19200                               3.0                    0   \n",
       "19201                               3.0                    0   \n",
       "19202                               3.0                    0   \n",
       "19203                               3.0                    0   \n",
       "\n",
       "       credito_prestamista_accedio_num liquidez_problema_num  \n",
       "19199                                0                     0  \n",
       "19200                                0                     0  \n",
       "19201                                0                     0  \n",
       "19202                                0                     0  \n",
       "19203                                0                     0  \n",
       "\n",
       "[5 rows x 56 columns]"
      ]
     },
     "metadata": {},
     "output_type": "display_data"
    },
    {
     "name": "stdout",
     "output_type": "stream",
     "text": [
      "<class 'pandas.core.frame.DataFrame'>\n",
      "Index: 14226 entries, 1 to 19203\n",
      "Data columns (total 56 columns):\n",
      " #   Column                            Non-Null Count  Dtype   \n",
      "---  ------                            --------------  -----   \n",
      " 0   anio_fun                          14226 non-null  float64 \n",
      " 1   edad                              14226 non-null  float64 \n",
      " 2   sal_ejec                          14226 non-null  float64 \n",
      " 3   sal_emple                         14226 non-null  float64 \n",
      " 4   sal_obr_per                       14226 non-null  float64 \n",
      " 5   reposicion_de_equip_anti          14226 non-null  float64 \n",
      " 6   mejoras_equipo                    14226 non-null  float64 \n",
      " 7   expansion_capacidad_prod          14226 non-null  float64 \n",
      " 8   pc_cantidad                       14226 non-null  float64 \n",
      " 9   laptop_tablec_cantidad            14226 non-null  float64 \n",
      " 10  internet                          14226 non-null  float64 \n",
      " 11  intranet                          14226 non-null  float64 \n",
      " 12  robo                              14226 non-null  float64 \n",
      " 13  intento_robo                      14226 non-null  float64 \n",
      " 14  extorcion                         14226 non-null  float64 \n",
      " 15  seguridad_infraest                14226 non-null  float64 \n",
      " 16  seguridad_video                   14226 non-null  float64 \n",
      " 17  seguridad_sist_control_pers       14226 non-null  float64 \n",
      " 18  seguridad_alarma                  14226 non-null  float64 \n",
      " 19  transporte_vehiculos_propios      14226 non-null  category\n",
      " 20  seguro_auto                       14226 non-null  float64 \n",
      " 21  seguro_incendio                   14226 non-null  float64 \n",
      " 22  seguro_robo                       14226 non-null  float64 \n",
      " 23  seguro_transporte_mercans         14226 non-null  float64 \n",
      " 24  seguro_fraude                     14226 non-null  float64 \n",
      " 25  seguro_medico                     14226 non-null  float64 \n",
      " 26  seguro_vida                       14226 non-null  float64 \n",
      " 27  seguro_accidente                  14226 non-null  float64 \n",
      " 28  dificultad_financiamiento         14226 non-null  float64 \n",
      " 29  operaciones_no_automatizado       14226 non-null  float64 \n",
      " 30  manodeobra_no_calif               14226 non-null  float64 \n",
      " 31  poca_demanda                      14226 non-null  float64 \n",
      " 32  falta_insumo_nac                  14226 non-null  float64 \n",
      " 33  excesiva_regu_labo                14226 non-null  float64 \n",
      " 34  excesiva_regu_tribu               14226 non-null  float64 \n",
      " 35  excesiva_regu_licencia            14226 non-null  float64 \n",
      " 36  corrupcion                        14226 non-null  float64 \n",
      " 37  informalidad                      14226 non-null  float64 \n",
      " 38  total_ingreso                     14226 non-null  float64 \n",
      " 39  solicito_credito                  14226 non-null  object  \n",
      " 40  outcome                           14226 non-null  int64   \n",
      " 41  sexo_dummy                        14226 non-null  category\n",
      " 42  rango_ventas_dummy                14226 non-null  category\n",
      " 43  estudio_numerico                  14226 non-null  category\n",
      " 44  organizacion_numerico             14226 non-null  category\n",
      " 45  uso_de_local_numerico             14226 non-null  category\n",
      " 46  areas_funcionales_numerico        14226 non-null  category\n",
      " 47  mercado_numerico                  14226 non-null  category\n",
      " 48  competencia_numerico              14226 non-null  category\n",
      " 49  org_empresarial_numerico          14226 non-null  category\n",
      " 50  capacidad_tec_requeri_numerico    13640 non-null  category\n",
      " 51  contrato_otras_empr_numerico      14226 non-null  category\n",
      " 52  como_lleva_contavilidad_numerico  14226 non-null  float64 \n",
      " 53  benef_trib_numerico               14226 non-null  int64   \n",
      " 54  credito_prestamista_accedio_num   14226 non-null  category\n",
      " 55  liquidez_problema_num             14226 non-null  category\n",
      "dtypes: category(14), float64(39), int64(2), object(1)\n",
      "memory usage: 4.9+ MB\n"
     ]
    },
    {
     "data": {
      "text/plain": [
       "None"
      ]
     },
     "metadata": {},
     "output_type": "display_data"
    },
    {
     "data": {
      "text/plain": [
       "Index(['anio_fun', 'edad', 'sal_ejec', 'sal_emple', 'sal_obr_per',\n",
       "       'reposicion_de_equip_anti', 'mejoras_equipo',\n",
       "       'expansion_capacidad_prod', 'pc_cantidad', 'laptop_tablec_cantidad',\n",
       "       'internet', 'intranet', 'robo', 'intento_robo', 'extorcion',\n",
       "       'seguridad_infraest', 'seguridad_video', 'seguridad_sist_control_pers',\n",
       "       'seguridad_alarma', 'transporte_vehiculos_propios', 'seguro_auto',\n",
       "       'seguro_incendio', 'seguro_robo', 'seguro_transporte_mercans',\n",
       "       'seguro_fraude', 'seguro_medico', 'seguro_vida', 'seguro_accidente',\n",
       "       'dificultad_financiamiento', 'operaciones_no_automatizado',\n",
       "       'manodeobra_no_calif', 'poca_demanda', 'falta_insumo_nac',\n",
       "       'excesiva_regu_labo', 'excesiva_regu_tribu', 'excesiva_regu_licencia',\n",
       "       'corrupcion', 'informalidad', 'total_ingreso', 'solicito_credito',\n",
       "       'outcome', 'sexo_dummy', 'rango_ventas_dummy', 'estudio_numerico',\n",
       "       'organizacion_numerico', 'uso_de_local_numerico',\n",
       "       'areas_funcionales_numerico', 'mercado_numerico',\n",
       "       'competencia_numerico', 'org_empresarial_numerico',\n",
       "       'capacidad_tec_requeri_numerico', 'contrato_otras_empr_numerico',\n",
       "       'como_lleva_contavilidad_numerico', 'benef_trib_numerico',\n",
       "       'credito_prestamista_accedio_num', 'liquidez_problema_num'],\n",
       "      dtype='object')"
      ]
     },
     "metadata": {},
     "output_type": "display_data"
    },
    {
     "data": {
      "text/plain": [
       "(14226, 56)"
      ]
     },
     "metadata": {},
     "output_type": "display_data"
    }
   ],
   "source": [
    "# * Lectura de la base de datos (es recomendable realizar un EDA)\n",
    "\n",
    "\n",
    "display(credito_df.head())        # 5 primeras observaciones\n",
    "display(credito_df.tail())        # 5 ultimas observaciones\n",
    "display(credito_df.info())        # Tipos de variables, por ejemplo si son o no numericas\n",
    "display(credito_df.columns)       # Nombre de todas las columnas\n",
    "display(credito_df.shape)         # Tamaño del dataframe"
   ]
  },
  {
   "cell_type": "code",
   "execution_count": 134,
   "metadata": {},
   "outputs": [
    {
     "data": {
      "text/plain": [
       "anio_fun                              0\n",
       "edad                                  0\n",
       "sal_ejec                              0\n",
       "sal_emple                             0\n",
       "sal_obr_per                           0\n",
       "reposicion_de_equip_anti              0\n",
       "mejoras_equipo                        0\n",
       "expansion_capacidad_prod              0\n",
       "pc_cantidad                           0\n",
       "laptop_tablec_cantidad                0\n",
       "internet                              0\n",
       "intranet                              0\n",
       "robo                                  0\n",
       "intento_robo                          0\n",
       "extorcion                             0\n",
       "seguridad_infraest                    0\n",
       "seguridad_video                       0\n",
       "seguridad_sist_control_pers           0\n",
       "seguridad_alarma                      0\n",
       "transporte_vehiculos_propios          0\n",
       "seguro_auto                           0\n",
       "seguro_incendio                       0\n",
       "seguro_robo                           0\n",
       "seguro_transporte_mercans             0\n",
       "seguro_fraude                         0\n",
       "seguro_medico                         0\n",
       "seguro_vida                           0\n",
       "seguro_accidente                      0\n",
       "dificultad_financiamiento             0\n",
       "operaciones_no_automatizado           0\n",
       "manodeobra_no_calif                   0\n",
       "poca_demanda                          0\n",
       "falta_insumo_nac                      0\n",
       "excesiva_regu_labo                    0\n",
       "excesiva_regu_tribu                   0\n",
       "excesiva_regu_licencia                0\n",
       "corrupcion                            0\n",
       "informalidad                          0\n",
       "total_ingreso                         0\n",
       "solicito_credito                      0\n",
       "outcome                               0\n",
       "sexo_dummy                            0\n",
       "rango_ventas_dummy                    0\n",
       "estudio_numerico                      0\n",
       "organizacion_numerico                 0\n",
       "uso_de_local_numerico                 0\n",
       "areas_funcionales_numerico            0\n",
       "mercado_numerico                      0\n",
       "competencia_numerico                  0\n",
       "org_empresarial_numerico              0\n",
       "capacidad_tec_requeri_numerico      586\n",
       "contrato_otras_empr_numerico          0\n",
       "como_lleva_contavilidad_numerico      0\n",
       "benef_trib_numerico                   0\n",
       "credito_prestamista_accedio_num       0\n",
       "liquidez_problema_num                 0\n",
       "dtype: int64"
      ]
     },
     "execution_count": 134,
     "metadata": {},
     "output_type": "execute_result"
    }
   ],
   "source": [
    "credito_df.isnull().sum()"
   ]
  },
  {
   "cell_type": "code",
   "execution_count": 135,
   "metadata": {},
   "outputs": [
    {
     "name": "stdout",
     "output_type": "stream",
     "text": [
      "<class 'pandas.core.frame.DataFrame'>\n",
      "Index: 14226 entries, 1 to 19203\n",
      "Data columns (total 56 columns):\n",
      " #   Column                            Non-Null Count  Dtype   \n",
      "---  ------                            --------------  -----   \n",
      " 0   anio_fun                          14226 non-null  float64 \n",
      " 1   edad                              14226 non-null  float64 \n",
      " 2   sal_ejec                          14226 non-null  float64 \n",
      " 3   sal_emple                         14226 non-null  float64 \n",
      " 4   sal_obr_per                       14226 non-null  float64 \n",
      " 5   reposicion_de_equip_anti          14226 non-null  float64 \n",
      " 6   mejoras_equipo                    14226 non-null  float64 \n",
      " 7   expansion_capacidad_prod          14226 non-null  float64 \n",
      " 8   pc_cantidad                       14226 non-null  float64 \n",
      " 9   laptop_tablec_cantidad            14226 non-null  float64 \n",
      " 10  internet                          14226 non-null  float64 \n",
      " 11  intranet                          14226 non-null  float64 \n",
      " 12  robo                              14226 non-null  float64 \n",
      " 13  intento_robo                      14226 non-null  float64 \n",
      " 14  extorcion                         14226 non-null  float64 \n",
      " 15  seguridad_infraest                14226 non-null  float64 \n",
      " 16  seguridad_video                   14226 non-null  float64 \n",
      " 17  seguridad_sist_control_pers       14226 non-null  float64 \n",
      " 18  seguridad_alarma                  14226 non-null  float64 \n",
      " 19  transporte_vehiculos_propios      14226 non-null  category\n",
      " 20  seguro_auto                       14226 non-null  float64 \n",
      " 21  seguro_incendio                   14226 non-null  float64 \n",
      " 22  seguro_robo                       14226 non-null  float64 \n",
      " 23  seguro_transporte_mercans         14226 non-null  float64 \n",
      " 24  seguro_fraude                     14226 non-null  float64 \n",
      " 25  seguro_medico                     14226 non-null  float64 \n",
      " 26  seguro_vida                       14226 non-null  float64 \n",
      " 27  seguro_accidente                  14226 non-null  float64 \n",
      " 28  dificultad_financiamiento         14226 non-null  float64 \n",
      " 29  operaciones_no_automatizado       14226 non-null  float64 \n",
      " 30  manodeobra_no_calif               14226 non-null  float64 \n",
      " 31  poca_demanda                      14226 non-null  float64 \n",
      " 32  falta_insumo_nac                  14226 non-null  float64 \n",
      " 33  excesiva_regu_labo                14226 non-null  float64 \n",
      " 34  excesiva_regu_tribu               14226 non-null  float64 \n",
      " 35  excesiva_regu_licencia            14226 non-null  float64 \n",
      " 36  corrupcion                        14226 non-null  float64 \n",
      " 37  informalidad                      14226 non-null  float64 \n",
      " 38  total_ingreso                     14226 non-null  float64 \n",
      " 39  solicito_credito                  14226 non-null  object  \n",
      " 40  outcome                           14226 non-null  int64   \n",
      " 41  sexo_dummy                        14226 non-null  category\n",
      " 42  rango_ventas_dummy                14226 non-null  category\n",
      " 43  estudio_numerico                  14226 non-null  category\n",
      " 44  organizacion_numerico             14226 non-null  category\n",
      " 45  uso_de_local_numerico             14226 non-null  category\n",
      " 46  areas_funcionales_numerico        14226 non-null  category\n",
      " 47  mercado_numerico                  14226 non-null  category\n",
      " 48  competencia_numerico              14226 non-null  category\n",
      " 49  org_empresarial_numerico          14226 non-null  category\n",
      " 50  capacidad_tec_requeri_numerico    13640 non-null  category\n",
      " 51  contrato_otras_empr_numerico      14226 non-null  category\n",
      " 52  como_lleva_contavilidad_numerico  14226 non-null  float64 \n",
      " 53  benef_trib_numerico               14226 non-null  int64   \n",
      " 54  credito_prestamista_accedio_num   14226 non-null  category\n",
      " 55  liquidez_problema_num             14226 non-null  category\n",
      "dtypes: category(14), float64(39), int64(2), object(1)\n",
      "memory usage: 4.9+ MB\n"
     ]
    },
    {
     "data": {
      "text/plain": [
       "None"
      ]
     },
     "metadata": {},
     "output_type": "display_data"
    }
   ],
   "source": [
    "display(credito_df.info()) "
   ]
  },
  {
   "cell_type": "code",
   "execution_count": 137,
   "metadata": {},
   "outputs": [],
   "source": [
    "credito_df = pd.get_dummies(credito_df)"
   ]
  },
  {
   "cell_type": "code",
   "execution_count": 139,
   "metadata": {},
   "outputs": [],
   "source": [
    "from sklearn.model_selection import train_test_split\n",
    "\n",
    "# Asegúrate de que 'outcome' es el nombre correcto de la columna objetivo\n",
    "if 'outcome' in credito_df.columns:\n",
    "    X = credito_df.drop('outcome', axis=1)\n",
    "    y = credito_df['outcome']\n",
    "else:\n",
    "    # Si 'outcome' no está presente, ajusta según la estructura de tu DataFrame\n",
    "    X = credito_df.copy()\n",
    "    y = None  # Ajusta esto según la estructura de tus datos\n",
    "\n",
    "# Divide tus datos en conjuntos de entrenamiento y prueba\n",
    "X_train, X_test, y_train, y_test = train_test_split(X, y, test_size=0.2, random_state=42)"
   ]
  },
  {
   "cell_type": "code",
   "execution_count": 140,
   "metadata": {},
   "outputs": [],
   "source": [
    "from sklearn.preprocessing import MinMaxScaler\n",
    "\n",
    "scaler = MinMaxScaler()\n",
    "X_train_scaled = scaler.fit_transform(X_train)\n",
    "X_test_scaled = scaler.transform(X_test)"
   ]
  },
  {
   "cell_type": "code",
   "execution_count": 141,
   "metadata": {},
   "outputs": [
    {
     "data": {
      "text/html": [
       "<style>#sk-container-id-1 {color: black;}#sk-container-id-1 pre{padding: 0;}#sk-container-id-1 div.sk-toggleable {background-color: white;}#sk-container-id-1 label.sk-toggleable__label {cursor: pointer;display: block;width: 100%;margin-bottom: 0;padding: 0.3em;box-sizing: border-box;text-align: center;}#sk-container-id-1 label.sk-toggleable__label-arrow:before {content: \"▸\";float: left;margin-right: 0.25em;color: #696969;}#sk-container-id-1 label.sk-toggleable__label-arrow:hover:before {color: black;}#sk-container-id-1 div.sk-estimator:hover label.sk-toggleable__label-arrow:before {color: black;}#sk-container-id-1 div.sk-toggleable__content {max-height: 0;max-width: 0;overflow: hidden;text-align: left;background-color: #f0f8ff;}#sk-container-id-1 div.sk-toggleable__content pre {margin: 0.2em;color: black;border-radius: 0.25em;background-color: #f0f8ff;}#sk-container-id-1 input.sk-toggleable__control:checked~div.sk-toggleable__content {max-height: 200px;max-width: 100%;overflow: auto;}#sk-container-id-1 input.sk-toggleable__control:checked~label.sk-toggleable__label-arrow:before {content: \"▾\";}#sk-container-id-1 div.sk-estimator input.sk-toggleable__control:checked~label.sk-toggleable__label {background-color: #d4ebff;}#sk-container-id-1 div.sk-label input.sk-toggleable__control:checked~label.sk-toggleable__label {background-color: #d4ebff;}#sk-container-id-1 input.sk-hidden--visually {border: 0;clip: rect(1px 1px 1px 1px);clip: rect(1px, 1px, 1px, 1px);height: 1px;margin: -1px;overflow: hidden;padding: 0;position: absolute;width: 1px;}#sk-container-id-1 div.sk-estimator {font-family: monospace;background-color: #f0f8ff;border: 1px dotted black;border-radius: 0.25em;box-sizing: border-box;margin-bottom: 0.5em;}#sk-container-id-1 div.sk-estimator:hover {background-color: #d4ebff;}#sk-container-id-1 div.sk-parallel-item::after {content: \"\";width: 100%;border-bottom: 1px solid gray;flex-grow: 1;}#sk-container-id-1 div.sk-label:hover label.sk-toggleable__label {background-color: #d4ebff;}#sk-container-id-1 div.sk-serial::before {content: \"\";position: absolute;border-left: 1px solid gray;box-sizing: border-box;top: 0;bottom: 0;left: 50%;z-index: 0;}#sk-container-id-1 div.sk-serial {display: flex;flex-direction: column;align-items: center;background-color: white;padding-right: 0.2em;padding-left: 0.2em;position: relative;}#sk-container-id-1 div.sk-item {position: relative;z-index: 1;}#sk-container-id-1 div.sk-parallel {display: flex;align-items: stretch;justify-content: center;background-color: white;position: relative;}#sk-container-id-1 div.sk-item::before, #sk-container-id-1 div.sk-parallel-item::before {content: \"\";position: absolute;border-left: 1px solid gray;box-sizing: border-box;top: 0;bottom: 0;left: 50%;z-index: -1;}#sk-container-id-1 div.sk-parallel-item {display: flex;flex-direction: column;z-index: 1;position: relative;background-color: white;}#sk-container-id-1 div.sk-parallel-item:first-child::after {align-self: flex-end;width: 50%;}#sk-container-id-1 div.sk-parallel-item:last-child::after {align-self: flex-start;width: 50%;}#sk-container-id-1 div.sk-parallel-item:only-child::after {width: 0;}#sk-container-id-1 div.sk-dashed-wrapped {border: 1px dashed gray;margin: 0 0.4em 0.5em 0.4em;box-sizing: border-box;padding-bottom: 0.4em;background-color: white;}#sk-container-id-1 div.sk-label label {font-family: monospace;font-weight: bold;display: inline-block;line-height: 1.2em;}#sk-container-id-1 div.sk-label-container {text-align: center;}#sk-container-id-1 div.sk-container {/* jupyter's `normalize.less` sets `[hidden] { display: none; }` but bootstrap.min.css set `[hidden] { display: none !important; }` so we also need the `!important` here to be able to override the default hidden behavior on the sphinx rendered scikit-learn.org. See: https://github.com/scikit-learn/scikit-learn/issues/21755 */display: inline-block !important;position: relative;}#sk-container-id-1 div.sk-text-repr-fallback {display: none;}</style><div id=\"sk-container-id-1\" class=\"sk-top-container\"><div class=\"sk-text-repr-fallback\"><pre>KNeighborsClassifier(n_neighbors=3)</pre><b>In a Jupyter environment, please rerun this cell to show the HTML representation or trust the notebook. <br />On GitHub, the HTML representation is unable to render, please try loading this page with nbviewer.org.</b></div><div class=\"sk-container\" hidden><div class=\"sk-item\"><div class=\"sk-estimator sk-toggleable\"><input class=\"sk-toggleable__control sk-hidden--visually\" id=\"sk-estimator-id-1\" type=\"checkbox\" checked><label for=\"sk-estimator-id-1\" class=\"sk-toggleable__label sk-toggleable__label-arrow\">KNeighborsClassifier</label><div class=\"sk-toggleable__content\"><pre>KNeighborsClassifier(n_neighbors=3)</pre></div></div></div></div></div>"
      ],
      "text/plain": [
       "KNeighborsClassifier(n_neighbors=3)"
      ]
     },
     "execution_count": 141,
     "metadata": {},
     "output_type": "execute_result"
    }
   ],
   "source": [
    "knn = KNeighborsClassifier(n_neighbors=3)  # Ajusta el número de vecinos según sea necesario\n",
    "knn.fit(X_train_scaled, y_train)"
   ]
  },
  {
   "cell_type": "code",
   "execution_count": 142,
   "metadata": {},
   "outputs": [],
   "source": [
    "# Realizar predicciones en el conjunto de prueba\n",
    "y_pred = knn.predict(X_test_scaled)"
   ]
  },
  {
   "cell_type": "code",
   "execution_count": 144,
   "metadata": {},
   "outputs": [],
   "source": [
    "from sklearn.neighbors import KNeighborsClassifier\n",
    "from sklearn.metrics import accuracy_score, classification_report, confusion_matrix"
   ]
  },
  {
   "cell_type": "code",
   "execution_count": 145,
   "metadata": {},
   "outputs": [
    {
     "name": "stdout",
     "output_type": "stream",
     "text": [
      "Accuracy: 0.9764581869290232\n"
     ]
    }
   ],
   "source": [
    "print(\"Accuracy:\", accuracy_score(y_test, y_pred))"
   ]
  },
  {
   "cell_type": "code",
   "execution_count": 146,
   "metadata": {},
   "outputs": [
    {
     "name": "stdout",
     "output_type": "stream",
     "text": [
      "\n",
      "Classification Report:\n",
      "               precision    recall  f1-score   support\n",
      "\n",
      "           0       0.97      0.99      0.98      1789\n",
      "           1       0.99      0.95      0.97      1057\n",
      "\n",
      "    accuracy                           0.98      2846\n",
      "   macro avg       0.98      0.97      0.97      2846\n",
      "weighted avg       0.98      0.98      0.98      2846\n",
      "\n"
     ]
    }
   ],
   "source": [
    "print(\"\\nClassification Report:\\n\", classification_report(y_test, y_pred))"
   ]
  },
  {
   "cell_type": "code",
   "execution_count": 156,
   "metadata": {},
   "outputs": [
    {
     "name": "stdout",
     "output_type": "stream",
     "text": [
      "\n",
      "Confusion Matrix:\n",
      " [[1780    9]\n",
      " [  58  999]]\n"
     ]
    }
   ],
   "source": [
    "print(\"\\nConfusion Matrix:\\n\", confusion_matrix(y_test, y_pred))"
   ]
  },
  {
   "cell_type": "code",
   "execution_count": 163,
   "metadata": {},
   "outputs": [],
   "source": [
    "#Setup arrays to store training and test accuracies////Entrenamiento del modelo\n",
    "\n",
    "neighbors = np.arange(1,300)\n",
    "\n",
    "train_accuracy =np.empty(len(neighbors))\n",
    "test_accuracy = np.empty(len(neighbors))\n",
    "\n",
    "for i,k in enumerate(neighbors):\n",
    "    #Setup a knn classifier with k neighbors\n",
    "    knn = KNeighborsClassifier(n_neighbors=k)\n",
    "    #Fit the model\n",
    "    knn.fit(X_train, y_train)\n",
    "    #Compute accuracy on the training set\n",
    "    train_accuracy[i] = knn.score(X_train, y_train)\n",
    "    #Compute accuracy on the test set\n",
    "    test_accuracy[i] = knn.score(X_test, y_test) \n"
   ]
  },
  {
   "cell_type": "code",
   "execution_count": 164,
   "metadata": {},
   "outputs": [
    {
     "data": {
      "image/png": "[encoded data removed]",
      "text/plain": [
       "<Figure size 640x480 with 1 Axes>"
      ]
     },
     "metadata": {},
     "output_type": "display_data"
    }
   ],
   "source": [
    "#Generate plot\n",
    "plt.title('k-NN Varying number of neighbors')\n",
    "plt.plot(neighbors, test_accuracy, label='Testing Accuracy')\n",
    "plt.plot(neighbors, train_accuracy, label='Training accuracy')\n",
    "plt.legend()\n",
    "plt.xlabel('Number of neighbors')\n",
    "plt.ylabel('Accuracy')\n",
    "plt.show()"
   ]
  },
  {
   "cell_type": "code",
   "execution_count": 165,
   "metadata": {},
   "outputs": [
    {
     "data": {
      "image/png": "[encoded data removed]",
      "text/plain": [
       "<Figure size 640x480 with 1 Axes>"
      ]
     },
     "metadata": {},
     "output_type": "display_data"
    }
   ],
   "source": [
    "#Generate plot para ver cual es el mejor accuracy\n",
    "plt.title('k-NN Varying number of neighbors')\n",
    "plt.plot(neighbors, test_accuracy, label='Testing Accuracy')\n",
    "#plt.plot(neighbors, train_accuracy, label='Training accuracy')\n",
    "plt.legend()\n",
    "plt.xlabel('Number of neighbors')\n",
    "plt.ylabel('Accuracy')\n",
    "plt.show()"
   ]
  },
  {
   "cell_type": "code",
   "execution_count": 184,
   "metadata": {},
   "outputs": [],
   "source": [
    "knn = KNeighborsClassifier(n_neighbors=123)"
   ]
  },
  {
   "cell_type": "code",
   "execution_count": 185,
   "metadata": {},
   "outputs": [
    {
     "data": {
      "text/plain": [
       "0.6394940267041461"
      ]
     },
     "metadata": {},
     "output_type": "display_data"
    }
   ],
   "source": [
    "# * Seteamos la configuración de nuestro modelo\n",
    "# *en este caso trabajaremos con los n vecinos más cercanos del gráfico\n",
    "knn = KNeighborsClassifier(n_neighbors=123)\n",
    "knn.fit(X_train, y_train)\n",
    "display(knn.score(X_test, y_test))"
   ]
  },
  {
   "cell_type": "code",
   "execution_count": 186,
   "metadata": {},
   "outputs": [
    {
     "data": {
      "text/html": [
       "<style>#sk-container-id-2 {color: black;}#sk-container-id-2 pre{padding: 0;}#sk-container-id-2 div.sk-toggleable {background-color: white;}#sk-container-id-2 label.sk-toggleable__label {cursor: pointer;display: block;width: 100%;margin-bottom: 0;padding: 0.3em;box-sizing: border-box;text-align: center;}#sk-container-id-2 label.sk-toggleable__label-arrow:before {content: \"▸\";float: left;margin-right: 0.25em;color: #696969;}#sk-container-id-2 label.sk-toggleable__label-arrow:hover:before {color: black;}#sk-container-id-2 div.sk-estimator:hover label.sk-toggleable__label-arrow:before {color: black;}#sk-container-id-2 div.sk-toggleable__content {max-height: 0;max-width: 0;overflow: hidden;text-align: left;background-color: #f0f8ff;}#sk-container-id-2 div.sk-toggleable__content pre {margin: 0.2em;color: black;border-radius: 0.25em;background-color: #f0f8ff;}#sk-container-id-2 input.sk-toggleable__control:checked~div.sk-toggleable__content {max-height: 200px;max-width: 100%;overflow: auto;}#sk-container-id-2 input.sk-toggleable__control:checked~label.sk-toggleable__label-arrow:before {content: \"▾\";}#sk-container-id-2 div.sk-estimator input.sk-toggleable__control:checked~label.sk-toggleable__label {background-color: #d4ebff;}#sk-container-id-2 div.sk-label input.sk-toggleable__control:checked~label.sk-toggleable__label {background-color: #d4ebff;}#sk-container-id-2 input.sk-hidden--visually {border: 0;clip: rect(1px 1px 1px 1px);clip: rect(1px, 1px, 1px, 1px);height: 1px;margin: -1px;overflow: hidden;padding: 0;position: absolute;width: 1px;}#sk-container-id-2 div.sk-estimator {font-family: monospace;background-color: #f0f8ff;border: 1px dotted black;border-radius: 0.25em;box-sizing: border-box;margin-bottom: 0.5em;}#sk-container-id-2 div.sk-estimator:hover {background-color: #d4ebff;}#sk-container-id-2 div.sk-parallel-item::after {content: \"\";width: 100%;border-bottom: 1px solid gray;flex-grow: 1;}#sk-container-id-2 div.sk-label:hover label.sk-toggleable__label {background-color: #d4ebff;}#sk-container-id-2 div.sk-serial::before {content: \"\";position: absolute;border-left: 1px solid gray;box-sizing: border-box;top: 0;bottom: 0;left: 50%;z-index: 0;}#sk-container-id-2 div.sk-serial {display: flex;flex-direction: column;align-items: center;background-color: white;padding-right: 0.2em;padding-left: 0.2em;position: relative;}#sk-container-id-2 div.sk-item {position: relative;z-index: 1;}#sk-container-id-2 div.sk-parallel {display: flex;align-items: stretch;justify-content: center;background-color: white;position: relative;}#sk-container-id-2 div.sk-item::before, #sk-container-id-2 div.sk-parallel-item::before {content: \"\";position: absolute;border-left: 1px solid gray;box-sizing: border-box;top: 0;bottom: 0;left: 50%;z-index: -1;}#sk-container-id-2 div.sk-parallel-item {display: flex;flex-direction: column;z-index: 1;position: relative;background-color: white;}#sk-container-id-2 div.sk-parallel-item:first-child::after {align-self: flex-end;width: 50%;}#sk-container-id-2 div.sk-parallel-item:last-child::after {align-self: flex-start;width: 50%;}#sk-container-id-2 div.sk-parallel-item:only-child::after {width: 0;}#sk-container-id-2 div.sk-dashed-wrapped {border: 1px dashed gray;margin: 0 0.4em 0.5em 0.4em;box-sizing: border-box;padding-bottom: 0.4em;background-color: white;}#sk-container-id-2 div.sk-label label {font-family: monospace;font-weight: bold;display: inline-block;line-height: 1.2em;}#sk-container-id-2 div.sk-label-container {text-align: center;}#sk-container-id-2 div.sk-container {/* jupyter's `normalize.less` sets `[hidden] { display: none; }` but bootstrap.min.css set `[hidden] { display: none !important; }` so we also need the `!important` here to be able to override the default hidden behavior on the sphinx rendered scikit-learn.org. See: https://github.com/scikit-learn/scikit-learn/issues/21755 */display: inline-block !important;position: relative;}#sk-container-id-2 div.sk-text-repr-fallback {display: none;}</style><div id=\"sk-container-id-2\" class=\"sk-top-container\"><div class=\"sk-text-repr-fallback\"><pre>KNeighborsClassifier(n_neighbors=123)</pre><b>In a Jupyter environment, please rerun this cell to show the HTML representation or trust the notebook. <br />On GitHub, the HTML representation is unable to render, please try loading this page with nbviewer.org.</b></div><div class=\"sk-container\" hidden><div class=\"sk-item\"><div class=\"sk-estimator sk-toggleable\"><input class=\"sk-toggleable__control sk-hidden--visually\" id=\"sk-estimator-id-2\" type=\"checkbox\" checked><label for=\"sk-estimator-id-2\" class=\"sk-toggleable__label sk-toggleable__label-arrow\">KNeighborsClassifier</label><div class=\"sk-toggleable__content\"><pre>KNeighborsClassifier(n_neighbors=123)</pre></div></div></div></div></div>"
      ],
      "text/plain": [
       "KNeighborsClassifier(n_neighbors=123)"
      ]
     },
     "execution_count": 186,
     "metadata": {},
     "output_type": "execute_result"
    }
   ],
   "source": [
    "\n",
    "# * Fit the model\n",
    "\n",
    "knn.fit(X_train,y_train)"
   ]
  },
  {
   "cell_type": "code",
   "execution_count": 187,
   "metadata": {},
   "outputs": [
    {
     "data": {
      "text/plain": [
       "0.6394940267041461"
      ]
     },
     "execution_count": 187,
     "metadata": {},
     "output_type": "execute_result"
    }
   ],
   "source": [
    "\n",
    "# * Obtenemos el accuracy. Nota: En el caso de algoritmos de clasificación el método de score representa el accuracy.\n",
    "\n",
    "knn.score(X_test,y_test)"
   ]
  },
  {
   "cell_type": "code",
   "execution_count": 188,
   "metadata": {},
   "outputs": [],
   "source": [
    "# * Importamos confusion_matrix\n",
    "\n",
    "from sklearn.metrics import confusion_matrix"
   ]
  },
  {
   "cell_type": "code",
   "execution_count": 189,
   "metadata": {},
   "outputs": [],
   "source": [
    "# * obtengamos las predicciones usando el clasificador que ajustamos arriba\n",
    "#* yo tengo mi modelo entrenado y siempre evalúo sobre mi data de testeo\n",
    "\n",
    "y_pred = knn.predict(X_test)"
   ]
  },
  {
   "cell_type": "code",
   "execution_count": 190,
   "metadata": {},
   "outputs": [
    {
     "data": {
      "text/plain": [
       "array([[1558,  231],\n",
       "       [ 795,  262]], dtype=int64)"
      ]
     },
     "execution_count": 190,
     "metadata": {},
     "output_type": "execute_result"
    }
   ],
   "source": [
    "confusion_matrix(y_test,y_pred)"
   ]
  },
  {
   "cell_type": "code",
   "execution_count": 191,
   "metadata": {},
   "outputs": [
    {
     "data": {
      "text/html": [
       "<div>\n",
       "<style scoped>\n",
       "    .dataframe tbody tr th:only-of-type {\n",
       "        vertical-align: middle;\n",
       "    }\n",
       "\n",
       "    .dataframe tbody tr th {\n",
       "        vertical-align: top;\n",
       "    }\n",
       "\n",
       "    .dataframe thead th {\n",
       "        text-align: right;\n",
       "    }\n",
       "</style>\n",
       "<table border=\"1\" class=\"dataframe\">\n",
       "  <thead>\n",
       "    <tr style=\"text-align: right;\">\n",
       "      <th>Predicted</th>\n",
       "      <th>0</th>\n",
       "      <th>1</th>\n",
       "      <th>All</th>\n",
       "    </tr>\n",
       "    <tr>\n",
       "      <th>True</th>\n",
       "      <th></th>\n",
       "      <th></th>\n",
       "      <th></th>\n",
       "    </tr>\n",
       "  </thead>\n",
       "  <tbody>\n",
       "    <tr>\n",
       "      <th>0</th>\n",
       "      <td>1558</td>\n",
       "      <td>231</td>\n",
       "      <td>1789</td>\n",
       "    </tr>\n",
       "    <tr>\n",
       "      <th>1</th>\n",
       "      <td>795</td>\n",
       "      <td>262</td>\n",
       "      <td>1057</td>\n",
       "    </tr>\n",
       "    <tr>\n",
       "      <th>All</th>\n",
       "      <td>2353</td>\n",
       "      <td>493</td>\n",
       "      <td>2846</td>\n",
       "    </tr>\n",
       "  </tbody>\n",
       "</table>\n",
       "</div>"
      ],
      "text/plain": [
       "Predicted     0    1   All\n",
       "True                      \n",
       "0          1558  231  1789\n",
       "1           795  262  1057\n",
       "All        2353  493  2846"
      ]
     },
     "execution_count": 191,
     "metadata": {},
     "output_type": "execute_result"
    }
   ],
   "source": [
    "#* ya si quieres mejorar la presentación de la matriz de confusión usas el siguiente código\n",
    "#* siempre recuerda que lo que nos importa es la diagonal principal\n",
    "pd.crosstab(y_test, y_pred, rownames=['True'], colnames=['Predicted'], margins=True)"
   ]
  },
  {
   "cell_type": "code",
   "execution_count": 192,
   "metadata": {},
   "outputs": [],
   "source": [
    "# * import classification_report\n",
    "\n",
    "from sklearn.metrics import classification_report\n",
    "from sklearn.metrics import roc_curve"
   ]
  },
  {
   "cell_type": "code",
   "execution_count": 193,
   "metadata": {},
   "outputs": [
    {
     "name": "stdout",
     "output_type": "stream",
     "text": [
      "              precision    recall  f1-score   support\n",
      "\n",
      "           0       0.66      0.87      0.75      1789\n",
      "           1       0.53      0.25      0.34      1057\n",
      "\n",
      "    accuracy                           0.64      2846\n",
      "   macro avg       0.60      0.56      0.55      2846\n",
      "weighted avg       0.61      0.64      0.60      2846\n",
      "\n"
     ]
    }
   ],
   "source": [
    "#*0 es negativos y 1 positivos, nos interesan los positivos\n",
    "print(classification_report(y_test,y_pred))"
   ]
  },
  {
   "cell_type": "code",
   "execution_count": 194,
   "metadata": {},
   "outputs": [],
   "source": [
    "from sklearn.metrics import roc_curve"
   ]
  },
  {
   "cell_type": "code",
   "execution_count": 195,
   "metadata": {},
   "outputs": [],
   "source": [
    "#* Calculo de los parametros para mi curva ROC \n",
    "\n",
    "y_pred_proba = knn.predict_proba(X_test)\n",
    "y_pred_proba = knn.predict_proba(X_test)[:,1]\n",
    "fpr, tpr, thresholds = roc_curve(y_test, y_pred_proba)"
   ]
  },
  {
   "cell_type": "code",
   "execution_count": 197,
   "metadata": {},
   "outputs": [
    {
     "data": {
      "image/png": "[encoded data removed]",
      "text/plain": [
       "<Figure size 640x480 with 1 Axes>"
      ]
     },
     "metadata": {},
     "output_type": "display_data"
    }
   ],
   "source": [
    "# * CURVA ROC\n",
    "\n",
    "plt.plot([0,1],[0,1],'k--')\n",
    "plt.plot(fpr,tpr, label='Knn')\n",
    "plt.xlabel('Ratio de falsos positivos (RFP)')\n",
    "plt.ylabel('Ratio de verdaderos positivos (TPR)')\n",
    "plt.title('Knn(n_neighbors=123) ROC curve')\n",
    "plt.show()"
   ]
  },
  {
   "cell_type": "code",
   "execution_count": 198,
   "metadata": {},
   "outputs": [
    {
     "data": {
      "text/plain": [
       "0.5956801075425191"
      ]
     },
     "execution_count": 198,
     "metadata": {},
     "output_type": "execute_result"
    }
   ],
   "source": [
    "# * Area under ROC curve (ROC AUC), nos indica el accuracy, un modelo correcto con buena predicción \n",
    "\n",
    "from sklearn.metrics import roc_auc_score\n",
    "roc_auc_score(y_test,y_pred_proba)"
   ]
  }
 ],
 "metadata": {
  "kernelspec": {
   "display_name": "Python 3",
   "language": "python",
   "name": "python3"
  },
  "language_info": {
   "codemirror_mode": {
    "name": "ipython",
    "version": 3
   },
   "file_extension": ".py",
   "mimetype": "text/x-python",
   "name": "python",
   "nbconvert_exporter": "python",
   "pygments_lexer": "ipython3",
   "version": "3.9.13"
  }
 },
 "nbformat": 4,
 "nbformat_minor": 2
}
